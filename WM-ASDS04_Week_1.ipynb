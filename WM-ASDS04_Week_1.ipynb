{
 "cells": [
  {
   "cell_type": "markdown",
   "id": "d6d6f79b",
   "metadata": {},
   "source": [
    "# Week_01: Introduction to Python\n",
    "**Course:** WMASDS04-Introduction to Data Science with Python"
   ]
  },
  {
   "cell_type": "markdown",
   "id": "1a6f5af3",
   "metadata": {},
   "source": [
    "1. Declaring variables\n",
    "2. Conditional Statements\n",
    "3. Control flow statements\n",
    "4. Collections\n",
    "5. Functions\n",
    "6. Modules and packages"
   ]
  },
  {
   "cell_type": "markdown",
   "id": "732fb472",
   "metadata": {},
   "source": [
    "### First Program in Python"
   ]
  },
  {
   "cell_type": "markdown",
   "id": "86b8755d",
   "metadata": {},
   "source": [
    "**This is a comment line. This cell is known as markdown cell. \n",
    "Your first python program is in the following code cell:**"
   ]
  },
  {
   "cell_type": "code",
   "execution_count": 110,
   "id": "a183526b",
   "metadata": {},
   "outputs": [
    {
     "name": "stdout",
     "output_type": "stream",
     "text": [
      "Hellow World\n"
     ]
    }
   ],
   "source": [
    "print('Hellow World')"
   ]
  },
  {
   "cell_type": "code",
   "execution_count": 111,
   "id": "610167b3",
   "metadata": {},
   "outputs": [],
   "source": [
    "# #Setting working directory\n",
    "# import os\n",
    "# os.getcwd()\n",
    "# # os.chdir('D:\\Summer2023')"
   ]
  },
  {
   "cell_type": "markdown",
   "id": "9b3e83de",
   "metadata": {},
   "source": [
    "Note: A line starting with hash (#) is a comment line in Python."
   ]
  },
  {
   "cell_type": "markdown",
   "id": "7f7dbefe",
   "metadata": {},
   "source": [
    "### 1.1 Variable Declaration "
   ]
  },
  {
   "cell_type": "code",
   "execution_count": 112,
   "id": "d3e6348d",
   "metadata": {},
   "outputs": [
    {
     "name": "stdout",
     "output_type": "stream",
     "text": [
      "Value of var1 : 2\n",
      "Value of var2 : 5.0\n",
      "Value of var3 : True\n",
      "Value of var4 : Data Science\n"
     ]
    },
    {
     "data": {
      "text/plain": [
       "str"
      ]
     },
     "execution_count": 112,
     "metadata": {},
     "output_type": "execute_result"
    }
   ],
   "source": [
    "var1 = 2\n",
    "var2 = 5.0\n",
    "var3 = True\n",
    "var4 = \"Data Science\"\n",
    "print(\"Value of var1 :\", var1)\n",
    "print(\"Value of var2 :\", var2)\n",
    "print(\"Value of var3 :\", var3)\n",
    "print(\"Value of var4 :\", var4)\n",
    "type( var1 )\n",
    "type( var2 )\n",
    "type(var3)\n",
    "type(var4)"
   ]
  },
  {
   "cell_type": "code",
   "execution_count": 113,
   "id": "a80e6ff5",
   "metadata": {},
   "outputs": [],
   "source": [
    "a = 5\n",
    "b = 5.5\n",
    "c = \"5.5\"\n",
    "d = 5==5.5"
   ]
  },
  {
   "cell_type": "code",
   "execution_count": 114,
   "id": "2f238653",
   "metadata": {},
   "outputs": [
    {
     "name": "stdout",
     "output_type": "stream",
     "text": [
      "<class 'int'> <class 'float'> <class 'str'> <class 'bool'>\n"
     ]
    }
   ],
   "source": [
    "print(type(a),type(b),type(c),type(d))"
   ]
  },
  {
   "cell_type": "code",
   "execution_count": 115,
   "id": "a04b5297",
   "metadata": {},
   "outputs": [
    {
     "data": {
      "text/plain": [
       "int"
      ]
     },
     "metadata": {},
     "output_type": "display_data"
    },
    {
     "data": {
      "text/plain": [
       "float"
      ]
     },
     "metadata": {},
     "output_type": "display_data"
    },
    {
     "data": {
      "text/plain": [
       "str"
      ]
     },
     "metadata": {},
     "output_type": "display_data"
    },
    {
     "data": {
      "text/plain": [
       "bool"
      ]
     },
     "metadata": {},
     "output_type": "display_data"
    }
   ],
   "source": [
    "display(type(a),type(b),type(c),type(d))"
   ]
  },
  {
   "cell_type": "markdown",
   "id": "f6a95c91",
   "metadata": {},
   "source": [
    "**Note:** Python supports the following variable types:\n",
    "1. int – Integer type.\n",
    "2. float – Floating point numbers.\n",
    "3. bool – Booleans are subtypes of integers and assigned value using literals True and False.\n",
    "4. str – Textual data."
   ]
  },
  {
   "cell_type": "markdown",
   "id": "1f915d71",
   "metadata": {},
   "source": [
    "### 1.2 Conditional Statements"
   ]
  },
  {
   "cell_type": "code",
   "execution_count": 116,
   "id": "78eebdad",
   "metadata": {},
   "outputs": [
    {
     "name": "stdout",
     "output_type": "stream",
     "text": [
      "Bigger than 1\n"
     ]
    }
   ],
   "source": [
    "# Checking a condition if the variable value is more than 1\n",
    "if var1 > 1:\n",
    "    print( \"Bigger than 1\" )"
   ]
  },
  {
   "cell_type": "code",
   "execution_count": 117,
   "id": "dcb257ca",
   "metadata": {},
   "outputs": [
    {
     "name": "stdout",
     "output_type": "stream",
     "text": [
      "x < y\n"
     ]
    }
   ],
   "source": [
    "x = 10\n",
    "y = 12\n",
    "# if x is greater than y\n",
    "if x > y:\n",
    "    print (\"x > y\")\n",
    "# if x is lesser than y\n",
    "elif x < y:\n",
    "    print (\"x < y\")\n",
    "else:\n",
    "    print (\"x = y\")"
   ]
  },
  {
   "cell_type": "code",
   "execution_count": 118,
   "id": "dbcfcd25",
   "metadata": {},
   "outputs": [
    {
     "data": {
      "text/plain": [
       "False"
      ]
     },
     "execution_count": 118,
     "metadata": {},
     "output_type": "execute_result"
    }
   ],
   "source": [
    "# Initialize\n",
    "x = 5\n",
    "# Assign True if x is more than 10 or assign False using ternary operator\n",
    "isGreater = True if x > 10 else False\n",
    "isGreater"
   ]
  },
  {
   "cell_type": "markdown",
   "id": "fbe30aca",
   "metadata": {},
   "source": [
    "Note:\n",
    "- Python supports if-elif-else for writing conditional statements.\n",
    "- The condition should be terminated by : (colon) and the code block following that must be indented.\n",
    "- Indentation in Python is not optional. It is a syntax of Python. \n",
    "- The conditional statement need not be enclosed with a bracket."
   ]
  },
  {
   "cell_type": "markdown",
   "id": "88636f79",
   "metadata": {},
   "source": [
    "### 1.3 Generating Sequence Numbers"
   ]
  },
  {
   "cell_type": "code",
   "execution_count": 119,
   "id": "260204c2",
   "metadata": {},
   "outputs": [
    {
     "data": {
      "text/plain": [
       "range(1, 6)"
      ]
     },
     "execution_count": 119,
     "metadata": {},
     "output_type": "execute_result"
    }
   ],
   "source": [
    "# Initializing the sequence of numbers starting from 1\n",
    "# and ending (not including) with 6\n",
    "numbers = range( 1, 6 )\n",
    "numbers"
   ]
  },
  {
   "cell_type": "code",
   "execution_count": 120,
   "id": "6c4eb31b",
   "metadata": {},
   "outputs": [],
   "source": [
    "range?"
   ]
  },
  {
   "cell_type": "code",
   "execution_count": 121,
   "id": "e827d843",
   "metadata": {},
   "outputs": [],
   "source": [
    "list?\n",
    "len?\n",
    "type?"
   ]
  },
  {
   "cell_type": "markdown",
   "id": "499aa524",
   "metadata": {},
   "source": [
    "Note:\n",
    "range() function generates a sequence of numbers. It takes the following three parameters.\n",
    "1. start: Starting number of the sequence.\n",
    "2. stop: Generate numbers up to, but not including, this number.\n",
    "3. step: Difference between each number in the sequence. It is optional and default value is 1."
   ]
  },
  {
   "cell_type": "markdown",
   "id": "0f6368d4",
   "metadata": {},
   "source": []
  },
  {
   "cell_type": "markdown",
   "id": "7b316b3a",
   "metadata": {},
   "source": [
    "### 1.4 Control Flow Statements"
   ]
  },
  {
   "cell_type": "code",
   "execution_count": 122,
   "id": "e4a61e3e",
   "metadata": {},
   "outputs": [
    {
     "name": "stdout",
     "output_type": "stream",
     "text": [
      "1\n",
      "2\n",
      "3\n",
      "4\n",
      "5\n"
     ]
    }
   ],
   "source": [
    "# Iterate through the collection\n",
    "for i in numbers:\n",
    "    print (i)"
   ]
  },
  {
   "cell_type": "code",
   "execution_count": 123,
   "id": "fb354213",
   "metadata": {},
   "outputs": [
    {
     "name": "stdout",
     "output_type": "stream",
     "text": [
      "1\n",
      "2\n",
      "3\n",
      "4\n",
      "Done\n"
     ]
    }
   ],
   "source": [
    "# Initialize the value of 1\n",
    "i = 1\n",
    "# check the value of i to check if the loop will be continued or not\n",
    "while i < 5: \n",
    "    print(i)\n",
    "# Increment the value of i.\n",
    "    i = i+1\n",
    "# print after the value of i\n",
    "print('Done')"
   ]
  },
  {
   "cell_type": "markdown",
   "id": "0b611a8c",
   "metadata": {},
   "source": [
    "Note: A while loop is used to keep executing a loop until a condition is false. In while loop, the state of i has to be managed explicitly. There is a good chance of going into an infinite loop if the state of i is not incremented."
   ]
  },
  {
   "cell_type": "markdown",
   "id": "4d3e7dba",
   "metadata": {},
   "source": [
    "### 1.5 Functions"
   ]
  },
  {
   "cell_type": "code",
   "execution_count": 124,
   "id": "c43907d2",
   "metadata": {},
   "outputs": [],
   "source": [
    "def addElements( a, b ):\n",
    "    return a + b"
   ]
  },
  {
   "cell_type": "code",
   "execution_count": 125,
   "id": "84c9a8fb",
   "metadata": {},
   "outputs": [
    {
     "data": {
      "text/plain": [
       "5"
      ]
     },
     "execution_count": 125,
     "metadata": {},
     "output_type": "execute_result"
    }
   ],
   "source": [
    "result = addElements( 2, 3 )\n",
    "result"
   ]
  },
  {
   "cell_type": "code",
   "execution_count": 126,
   "id": "627a651c",
   "metadata": {},
   "outputs": [
    {
     "data": {
      "text/plain": [
       "6.8"
      ]
     },
     "execution_count": 126,
     "metadata": {},
     "output_type": "execute_result"
    }
   ],
   "source": [
    "result = addElements( 2.3, 4.5 )\n",
    "result"
   ]
  },
  {
   "cell_type": "code",
   "execution_count": 127,
   "id": "26b5dc18",
   "metadata": {},
   "outputs": [
    {
     "data": {
      "text/plain": [
       "'pythonworkshop'"
      ]
     },
     "execution_count": 127,
     "metadata": {},
     "output_type": "execute_result"
    }
   ],
   "source": [
    "result = addElements( \"python\", \"workshop\" )\n",
    "result"
   ]
  },
  {
   "cell_type": "code",
   "execution_count": 128,
   "id": "210948b3",
   "metadata": {},
   "outputs": [],
   "source": [
    "def addElements( a, b = 4 ):\n",
    "    return a + b\n"
   ]
  },
  {
   "cell_type": "code",
   "execution_count": 129,
   "id": "22774e4d",
   "metadata": {},
   "outputs": [
    {
     "data": {
      "text/plain": [
       "6"
      ]
     },
     "execution_count": 129,
     "metadata": {},
     "output_type": "execute_result"
    }
   ],
   "source": [
    "addElements( 2 )"
   ]
  },
  {
   "cell_type": "code",
   "execution_count": 130,
   "id": "99c1d50f",
   "metadata": {},
   "outputs": [
    {
     "data": {
      "text/plain": [
       "7"
      ]
     },
     "execution_count": 130,
     "metadata": {},
     "output_type": "execute_result"
    }
   ],
   "source": [
    "addElements( 2, 5 )"
   ]
  },
  {
   "cell_type": "markdown",
   "id": "2448d664",
   "metadata": {},
   "source": [
    "**Note:** \n",
    "Functions are the most important part of a language.\n",
    "1. Functions can be created using def keyword.\n",
    "2. The function signature should contain the function name followed by the input parameters enclosed in brackets and must end with a colon (:).\n",
    "3. Parameters are optional if initialized in the definition. The code block inside the method should be indented.\n",
    "4. The function ends with a return statement. No return statement implies the function returns None"
   ]
  },
  {
   "cell_type": "markdown",
   "id": "2c94a50e",
   "metadata": {},
   "source": [
    "### 1.6 Working with Collections"
   ]
  },
  {
   "cell_type": "markdown",
   "id": "ed4d4b58",
   "metadata": {},
   "source": [
    "We will discuss the following collections in this section:\n",
    "1. List\n",
    "2. Tuple\n",
    "3. Set\n",
    "4. Dictionary"
   ]
  },
  {
   "cell_type": "markdown",
   "id": "fe0188f7",
   "metadata": {},
   "source": [
    "#### 1.6.1 List"
   ]
  },
  {
   "cell_type": "code",
   "execution_count": 131,
   "id": "2b262c69",
   "metadata": {},
   "outputs": [
    {
     "data": {
      "text/plain": [
       "1"
      ]
     },
     "execution_count": 131,
     "metadata": {},
     "output_type": "execute_result"
    }
   ],
   "source": [
    "## Create an empty list\n",
    "emptyList = []\n",
    "list1 = [1,3,5,7,9,'Data Science']\n",
    "list1[0]\n"
   ]
  },
  {
   "cell_type": "code",
   "execution_count": 132,
   "id": "75f83942",
   "metadata": {},
   "outputs": [
    {
     "data": {
      "text/plain": [
       "[1, 3]"
      ]
     },
     "execution_count": 132,
     "metadata": {},
     "output_type": "execute_result"
    }
   ],
   "source": [
    "## Slicing an list\n",
    "list1[0:2]\n"
   ]
  },
  {
   "cell_type": "code",
   "execution_count": 133,
   "id": "8a73ccc4",
   "metadata": {},
   "outputs": [
    {
     "data": {
      "text/plain": [
       "'Data Science'"
      ]
     },
     "execution_count": 133,
     "metadata": {},
     "output_type": "execute_result"
    }
   ],
   "source": [
    "## Accessing the last element\n",
    "list1[-1]\n"
   ]
  },
  {
   "cell_type": "code",
   "execution_count": 134,
   "id": "33270569",
   "metadata": {},
   "outputs": [
    {
     "data": {
      "text/plain": [
       "6"
      ]
     },
     "execution_count": 134,
     "metadata": {},
     "output_type": "execute_result"
    }
   ],
   "source": [
    "# how many elements in the list\n",
    "len( list1 )\n"
   ]
  },
  {
   "cell_type": "code",
   "execution_count": 135,
   "id": "49aebfe8",
   "metadata": {},
   "outputs": [
    {
     "data": {
      "text/plain": [
       "[1, 3, 5, 7, 9, 'Data Science', 0, 2, 4, 6, 8, 'Python', True]"
      ]
     },
     "execution_count": 135,
     "metadata": {},
     "output_type": "execute_result"
    }
   ],
   "source": [
    "list2 = [0,2,4,6,8,'Python', True]\n",
    "all_list = list1 + list2\n",
    "all_list\n"
   ]
  },
  {
   "cell_type": "code",
   "execution_count": 136,
   "id": "2f9adf05",
   "metadata": {},
   "outputs": [
    {
     "data": {
      "text/plain": [
       "False"
      ]
     },
     "execution_count": 136,
     "metadata": {},
     "output_type": "execute_result"
    }
   ],
   "source": [
    "#Finding if an item exists in a list or not\n",
    "'Python' in list1\n"
   ]
  },
  {
   "cell_type": "code",
   "execution_count": 137,
   "id": "58317c9c",
   "metadata": {},
   "outputs": [
    {
     "data": {
      "text/plain": [
       "True"
      ]
     },
     "execution_count": 137,
     "metadata": {},
     "output_type": "execute_result"
    }
   ],
   "source": [
    "'Data Science' in list1\n"
   ]
  },
  {
   "cell_type": "code",
   "execution_count": 138,
   "id": "235a2897",
   "metadata": {},
   "outputs": [
    {
     "data": {
      "text/plain": [
       "11"
      ]
     },
     "execution_count": 138,
     "metadata": {},
     "output_type": "execute_result"
    }
   ],
   "source": [
    "#Finding the index of an item in the list.\n",
    "all_list.index( 'Python' )\n"
   ]
  },
  {
   "cell_type": "code",
   "execution_count": 139,
   "id": "42055ba1",
   "metadata": {},
   "outputs": [
    {
     "data": {
      "text/plain": [
       "[True, 'Python', 8, 6, 4, 2, 0, 'Data Science', 9, 7, 5, 3, 1]"
      ]
     },
     "execution_count": 139,
     "metadata": {},
     "output_type": "execute_result"
    }
   ],
   "source": [
    "# arranged in reverse order\n",
    "all_list.reverse()\n",
    "all_list"
   ]
  },
  {
   "cell_type": "code",
   "execution_count": 140,
   "id": "6c3a5788",
   "metadata": {},
   "outputs": [
    {
     "data": {
      "text/plain": [
       "['000', 2, 4, 6, 8, 'Python', True]"
      ]
     },
     "execution_count": 140,
     "metadata": {},
     "output_type": "execute_result"
    }
   ],
   "source": [
    "# to change an element\n",
    "list2[0]='000'\n",
    "list2"
   ]
  },
  {
   "cell_type": "code",
   "execution_count": 141,
   "id": "3a53697f",
   "metadata": {},
   "outputs": [
    {
     "data": {
      "text/plain": [
       "[3, 5, 7, 9, 'Data Science']"
      ]
     },
     "execution_count": 141,
     "metadata": {},
     "output_type": "execute_result"
    }
   ],
   "source": [
    "# to remove an element\n",
    "del(list1[0])\n",
    "list1"
   ]
  },
  {
   "cell_type": "code",
   "execution_count": 142,
   "id": "93a12cfc",
   "metadata": {},
   "outputs": [
    {
     "data": {
      "text/plain": [
       "['000',\n",
       " 2,\n",
       " 4,\n",
       " 6,\n",
       " 8,\n",
       " 'Python',\n",
       " True,\n",
       " '000',\n",
       " 2,\n",
       " 4,\n",
       " 6,\n",
       " 8,\n",
       " 'Python',\n",
       " True,\n",
       " '000',\n",
       " 2,\n",
       " 4,\n",
       " 6,\n",
       " 8,\n",
       " 'Python',\n",
       " True]"
      ]
     },
     "execution_count": 142,
     "metadata": {},
     "output_type": "execute_result"
    }
   ],
   "source": [
    "# multiply elements\n",
    "list2*3"
   ]
  },
  {
   "cell_type": "markdown",
   "id": "ac811380",
   "metadata": {},
   "source": [
    "Notes:\n",
    "- Lists are like arrays,\n",
    "- It can contain heterogeneous items, (integer, float, string, or objects). \n",
    "- It allows duplicate items.\n",
    "- Lists are mutable\n",
    "- items of an list are ordered (indexed)\n",
    "- initialized with a list of values specified inside square brackets or an empty list."
   ]
  },
  {
   "cell_type": "markdown",
   "id": "605a425c",
   "metadata": {},
   "source": [
    "#### 1.6.2 Tuples"
   ]
  },
  {
   "cell_type": "code",
   "execution_count": 143,
   "id": "96674e1e",
   "metadata": {},
   "outputs": [
    {
     "data": {
      "text/plain": [
       "('Data Science', 2022)"
      ]
     },
     "execution_count": 143,
     "metadata": {},
     "output_type": "execute_result"
    }
   ],
   "source": [
    "t1 = ('Data Science', 2022)\n",
    "t1"
   ]
  },
  {
   "cell_type": "code",
   "execution_count": 144,
   "id": "0f59a53e",
   "metadata": {},
   "outputs": [
    {
     "ename": "TypeError",
     "evalue": "'tuple' object does not support item assignment",
     "output_type": "error",
     "traceback": [
      "\u001b[1;31m---------------------------------------------------------------------------\u001b[0m",
      "\u001b[1;31mTypeError\u001b[0m                                 Traceback (most recent call last)",
      "Cell \u001b[1;32mIn[144], line 2\u001b[0m\n\u001b[0;32m      1\u001b[0m t1[\u001b[38;5;241m1\u001b[39m]\n\u001b[1;32m----> 2\u001b[0m t1[\u001b[38;5;241m1\u001b[39m] \u001b[38;5;241m=\u001b[39m \u001b[38;5;124m'\u001b[39m\u001b[38;5;124m2023\u001b[39m\u001b[38;5;124m'\u001b[39m\n",
      "\u001b[1;31mTypeError\u001b[0m: 'tuple' object does not support item assignment"
     ]
    }
   ],
   "source": [
    "t1[1]\n",
    "t1[1] = '2023'\n"
   ]
  },
  {
   "cell_type": "code",
   "execution_count": 145,
   "id": "c80083b6",
   "metadata": {},
   "outputs": [
    {
     "data": {
      "text/plain": [
       "1"
      ]
     },
     "execution_count": 145,
     "metadata": {},
     "output_type": "execute_result"
    }
   ],
   "source": [
    "t1.index(2022)"
   ]
  },
  {
   "cell_type": "code",
   "execution_count": null,
   "id": "06f50e92",
   "metadata": {},
   "outputs": [],
   "source": [
    "# type conversion from list to tuple\n",
    "t2 = tuple(list1)\n",
    "print(t2)"
   ]
  },
  {
   "cell_type": "markdown",
   "id": "e5f104cd",
   "metadata": {},
   "source": [
    "Tuple is also a list, but it is immutable. Once a tuple has been created it cannot be modified."
   ]
  },
  {
   "cell_type": "markdown",
   "id": "a40eb1f1",
   "metadata": {},
   "source": [
    "#### 1.6.3 Set"
   ]
  },
  {
   "cell_type": "code",
   "execution_count": 146,
   "id": "ef6bb68e",
   "metadata": {},
   "outputs": [
    {
     "data": {
      "text/plain": [
       "{1, 2, 4, 5, 6}"
      ]
     },
     "execution_count": 146,
     "metadata": {},
     "output_type": "execute_result"
    }
   ],
   "source": [
    "set1 = {6,1,1,2,4,5}\n",
    "set1\n"
   ]
  },
  {
   "cell_type": "code",
   "execution_count": 147,
   "id": "35dd87d9",
   "metadata": {},
   "outputs": [
    {
     "data": {
      "text/plain": [
       "{1, 5}"
      ]
     },
     "execution_count": 147,
     "metadata": {},
     "output_type": "execute_result"
    }
   ],
   "source": [
    "set2 = {0, 2,4,6,8}\n",
    "\n",
    "set1.union( set2 )\n",
    "set1.intersection( set2 )\n",
    "set1.difference( set2 )\n"
   ]
  },
  {
   "cell_type": "markdown",
   "id": "c466d4b5",
   "metadata": {},
   "source": [
    "Notes: A set is a collection of unique elements, that is, the values cannot repeat. A set can be initialized with a list of items enclosed with curly brackets. The set automatically removes duplicates and contains only unique list of numbers."
   ]
  },
  {
   "cell_type": "markdown",
   "id": "661aecf2",
   "metadata": {},
   "source": [
    "#### 1.6.4 Dictionary"
   ]
  },
  {
   "cell_type": "code",
   "execution_count": 148,
   "id": "1a9d39cf",
   "metadata": {},
   "outputs": [],
   "source": [
    "wcWinners = {1975: \"West Indies\", \n",
    "             1979: \"West Indies\", \n",
    "             1983: \"India\", \n",
    "             1987: \"Australia\", \n",
    "             1991: \"Pakistan\", \n",
    "             1996: \"Srilanka\", \n",
    "             1999: \"Australia\", \n",
    "             2003: \"Australia\", \n",
    "             2007: \"Australia\", \n",
    "             2011: \"India\"}\n"
   ]
  },
  {
   "cell_type": "code",
   "execution_count": 149,
   "id": "54fd0888",
   "metadata": {},
   "outputs": [
    {
     "data": {
      "text/plain": [
       "'India'"
      ]
     },
     "execution_count": 149,
     "metadata": {},
     "output_type": "execute_result"
    }
   ],
   "source": [
    "wcWinners[1983]\n"
   ]
  },
  {
   "cell_type": "code",
   "execution_count": 150,
   "id": "4e5e861d",
   "metadata": {},
   "outputs": [
    {
     "data": {
      "text/plain": [
       "dict_values(['West Indies', 'West Indies', 'India', 'Australia', 'Pakistan', 'Srilanka', 'Australia', 'Australia', 'Australia', 'India'])"
      ]
     },
     "execution_count": 150,
     "metadata": {},
     "output_type": "execute_result"
    }
   ],
   "source": [
    "wcWinners.values()\n"
   ]
  },
  {
   "cell_type": "code",
   "execution_count": 151,
   "id": "a8646478",
   "metadata": {},
   "outputs": [
    {
     "data": {
      "text/plain": [
       "{'Australia', 'India', 'Pakistan', 'Srilanka', 'West Indies'}"
      ]
     },
     "execution_count": 151,
     "metadata": {},
     "output_type": "execute_result"
    }
   ],
   "source": [
    "#To find unique list of values\n",
    "set(wcWinners.values())\n"
   ]
  },
  {
   "cell_type": "code",
   "execution_count": 152,
   "id": "993ddcb7",
   "metadata": {},
   "outputs": [
    {
     "data": {
      "text/plain": [
       "{1975: 'West Indies',\n",
       " 1979: 'West Indies',\n",
       " 1983: 'India',\n",
       " 1987: 'Australia',\n",
       " 1991: 'Pakistan',\n",
       " 1996: 'Srilanka',\n",
       " 1999: 'Australia',\n",
       " 2003: 'Australia',\n",
       " 2007: 'Australia',\n",
       " 2011: 'India',\n",
       " 2015: 'Australia'}"
      ]
     },
     "execution_count": 152,
     "metadata": {},
     "output_type": "execute_result"
    }
   ],
   "source": [
    "#To adding a new key-value pair to the dictionary\n",
    "wcWinners[2015] = 'Australia'\n",
    "wcWinners"
   ]
  },
  {
   "cell_type": "code",
   "execution_count": 153,
   "id": "292a32d5",
   "metadata": {},
   "outputs": [
    {
     "data": {
      "text/plain": [
       "dict_keys([1975, 1979, 1983, 1987, 1991, 1996, 1999, 2003, 2007, 2011, 2015])"
      ]
     },
     "execution_count": 153,
     "metadata": {},
     "output_type": "execute_result"
    }
   ],
   "source": [
    "wcWinners.keys()"
   ]
  },
  {
   "cell_type": "markdown",
   "id": "3e605d8d",
   "metadata": {},
   "source": [
    "Dictionary is a list of key and value pairs. All the keys in a dictionary are unique. The value of a specific dictionary element can be accessed by key."
   ]
  },
  {
   "cell_type": "markdown",
   "id": "3bf4fc85",
   "metadata": {},
   "source": [
    "### 1.7 Dealing with Strings"
   ]
  },
  {
   "cell_type": "code",
   "execution_count": 154,
   "id": "4c49dd6f",
   "metadata": {},
   "outputs": [
    {
     "data": {
      "text/plain": [
       "'PYTHON'"
      ]
     },
     "execution_count": 154,
     "metadata": {},
     "output_type": "execute_result"
    }
   ],
   "source": [
    "string0 = 'python'\n",
    "string1 = \"machine learning\"\n",
    "string2 = \"\"\"This is a multiline string\"\"\"\n",
    "# Converting to upper case\n",
    "string0.upper()\n"
   ]
  },
  {
   "cell_type": "code",
   "execution_count": 155,
   "id": "2c9edb62",
   "metadata": {},
   "outputs": [
    {
     "data": {
      "text/plain": [
       "'python'"
      ]
     },
     "execution_count": 155,
     "metadata": {},
     "output_type": "execute_result"
    }
   ],
   "source": [
    "# Similarly string.lower() can be used to convert to lower case.\n",
    "string0.lower()\n"
   ]
  },
  {
   "cell_type": "code",
   "execution_count": 156,
   "id": "0a7ee87d",
   "metadata": {},
   "outputs": [
    {
     "data": {
      "text/plain": [
       "['machine', 'learning']"
      ]
     },
     "execution_count": 156,
     "metadata": {},
     "output_type": "execute_result"
    }
   ],
   "source": [
    "tokens = string1.split(' ')\n",
    "tokens"
   ]
  },
  {
   "cell_type": "markdown",
   "id": "1ca7c534",
   "metadata": {},
   "source": [
    "### 1.7.8 Functional Programming"
   ]
  },
  {
   "cell_type": "markdown",
   "id": "160f4368",
   "metadata": {},
   "source": [
    "####  Map"
   ]
  },
  {
   "cell_type": "code",
   "execution_count": 157,
   "id": "96863693",
   "metadata": {},
   "outputs": [
    {
     "name": "stdout",
     "output_type": "stream",
     "text": [
      "[1, 4, 9, 16, 25, 36, 49, 64, 81]\n"
     ]
    }
   ],
   "source": [
    "intList = [1,2,3,4,5,6,7,8,9]\n",
    "# Create an empty list.\n",
    "squareList = []\n",
    "# Loop through the intList, square every item and append to result list squareList.\n",
    "for x in intList: \n",
    "    squareList.append( pow( x, 2 ) )\n",
    "print( squareList )\n"
   ]
  },
  {
   "cell_type": "code",
   "execution_count": 158,
   "id": "0adf513a",
   "metadata": {},
   "outputs": [
    {
     "data": {
      "text/plain": [
       "[1, 4, 9, 16, 25, 36, 49, 64, 81]"
      ]
     },
     "execution_count": 158,
     "metadata": {},
     "output_type": "execute_result"
    }
   ],
   "source": [
    "def square_me( x ):\n",
    "    return x * x\n",
    "squareList = map( square_me, intList)\n",
    "list(squareList)\n"
   ]
  },
  {
   "cell_type": "code",
   "execution_count": 159,
   "id": "080fbc1f",
   "metadata": {},
   "outputs": [
    {
     "data": {
      "text/plain": [
       "[1, 4, 9, 16, 25, 36, 49, 64, 81]"
      ]
     },
     "execution_count": 159,
     "metadata": {},
     "output_type": "execute_result"
    }
   ],
   "source": [
    "squareList = map(lambda x: x*x, intList)\n",
    "list(squareList)"
   ]
  },
  {
   "cell_type": "markdown",
   "id": "e28ba9ac",
   "metadata": {},
   "source": [
    "#### Example 2: Filter"
   ]
  },
  {
   "cell_type": "code",
   "execution_count": 165,
   "id": "fab3c6d8",
   "metadata": {},
   "outputs": [
    {
     "data": {
      "text/plain": [
       "[2, 4, 6, 8]"
      ]
     },
     "execution_count": 165,
     "metadata": {},
     "output_type": "execute_result"
    }
   ],
   "source": [
    "evenInts = filter( lambda x : x % 2 == 0, intList )\n",
    "list( evenInts )"
   ]
  },
  {
   "cell_type": "markdown",
   "id": "b32d49f3",
   "metadata": {},
   "source": [
    "### 1.9 Modules and Packages"
   ]
  },
  {
   "cell_type": "code",
   "execution_count": 166,
   "id": "8d7c7fd2",
   "metadata": {},
   "outputs": [
    {
     "data": {
      "text/plain": [
       "4.0"
      ]
     },
     "execution_count": 166,
     "metadata": {},
     "output_type": "execute_result"
    }
   ],
   "source": [
    "import math\n",
    "## Taking square root of a value\n",
    "math.sqrt(16)"
   ]
  },
  {
   "cell_type": "code",
   "execution_count": 167,
   "id": "94b24e64",
   "metadata": {},
   "outputs": [],
   "source": [
    "from random import sample"
   ]
  },
  {
   "cell_type": "code",
   "execution_count": 168,
   "id": "702482cf",
   "metadata": {},
   "outputs": [
    {
     "data": {
      "text/plain": [
       "[7, 4, 10]"
      ]
     },
     "execution_count": 168,
     "metadata": {},
     "output_type": "execute_result"
    }
   ],
   "source": [
    "sample( range(0, 11), 3)\n"
   ]
  },
  {
   "cell_type": "markdown",
   "id": "96b693ec",
   "metadata": {},
   "source": [
    "**Note:** \n",
    "- In Python, a module is a file that consists of functions, classes, and variables. \n",
    "- A set of modules under a namespace (mostly a directory) is called a package. \n",
    "- The modules and packages can be imported to another module using import statement. \n",
    "- For example, to use mathematical functions, Python’s math module can be imported."
   ]
  },
  {
   "cell_type": "markdown",
   "id": "d3a5ef6c",
   "metadata": {},
   "source": [
    "### 1.10 Other Features"
   ]
  },
  {
   "cell_type": "code",
   "execution_count": 169,
   "id": "4f000a9d",
   "metadata": {},
   "outputs": [
    {
     "data": {
      "text/plain": [
       "[30, 75, 32, 88, 66, 89, 33, 85, 52, 97, 86, 57, 98, 81, 44, 94, 80, 73, 5, 71]"
      ]
     },
     "execution_count": 169,
     "metadata": {},
     "output_type": "execute_result"
    }
   ],
   "source": [
    "import random\n",
    "randomList = random.sample( range(0, 100), 20)\n",
    "randomList\n"
   ]
  },
  {
   "cell_type": "code",
   "execution_count": 170,
   "id": "46669600",
   "metadata": {},
   "outputs": [],
   "source": [
    "from statistics import mean, median\n",
    "def getMeanAndMedian( listNum ): \n",
    "    return mean(listNum), median(listNum)\n"
   ]
  },
  {
   "cell_type": "code",
   "execution_count": 171,
   "id": "f1f7ad2d",
   "metadata": {},
   "outputs": [
    {
     "name": "stdout",
     "output_type": "stream",
     "text": [
      "Mean:  66.8  Median:  74.0\n"
     ]
    }
   ],
   "source": [
    "mean, median = getMeanAndMedian( randomList )\n",
    "print( \"Mean: \", mean, \" Median: \", median)"
   ]
  },
  {
   "cell_type": "markdown",
   "id": "1530016d",
   "metadata": {},
   "source": [
    "### Input from user"
   ]
  },
  {
   "cell_type": "code",
   "execution_count": 172,
   "id": "23a6b77b",
   "metadata": {},
   "outputs": [
    {
     "name": "stdout",
     "output_type": "stream",
     "text": [
      "Enter a text =123\n"
     ]
    }
   ],
   "source": [
    "data = input('Enter a text =')"
   ]
  },
  {
   "cell_type": "code",
   "execution_count": 173,
   "id": "41069b91",
   "metadata": {},
   "outputs": [
    {
     "data": {
      "text/plain": [
       "'123'"
      ]
     },
     "execution_count": 173,
     "metadata": {},
     "output_type": "execute_result"
    }
   ],
   "source": [
    "data"
   ]
  },
  {
   "cell_type": "markdown",
   "id": "d439365b",
   "metadata": {},
   "source": [
    "## Guess the Number!"
   ]
  },
  {
   "cell_type": "code",
   "execution_count": 174,
   "id": "ca1f17b3",
   "metadata": {},
   "outputs": [
    {
     "name": "stdout",
     "output_type": "stream",
     "text": [
      "Target =  5\n",
      "Guess a number between 1 and 9 until you get it right\n",
      "Guess: 5\n",
      "\n",
      "Well guessed!\n"
     ]
    }
   ],
   "source": [
    "# guess the number until you get it right\n",
    "import random\n",
    "target_num = random.randint(1, 9)\n",
    "guess_num =  0\n",
    "print('Target = ',target_num)\n",
    "print('Guess a number between 1 and 9 until you get it right')\n",
    "while target_num != guess_num:\n",
    "    guess_num = int(input('Guess: '))\n",
    "print('\\nWell guessed!')"
   ]
  },
  {
   "cell_type": "code",
   "execution_count": 175,
   "id": "b36779b7",
   "metadata": {},
   "outputs": [
    {
     "name": "stdout",
     "output_type": "stream",
     "text": [
      "Target Number is =  2\n",
      "Guess a number between 1 to 9\n",
      "\n",
      "\n",
      "Your guess-3\n",
      "\n",
      "Too large! Try again!\n",
      "Your guess-2\n",
      "Congratulation!!! You won the game!\n"
     ]
    }
   ],
   "source": [
    "# Guess the number in fixed number of try\n",
    "import random\n",
    "    \n",
    "target_num=random.randint(1,9)\n",
    "print ('Target Number is = ',target_num)\n",
    "print ('Guess a number between 1 to 9\\n\\n')\n",
    "count = 1\n",
    "while count<=3:\n",
    "    guess_num = int(input('Your guess-'))\n",
    "    if guess_num == target_num: print('Congratulation!!! You won the game!'); break\n",
    "    elif guess_num<target_num: print('\\nToo small! Try again!')\n",
    "    elif guess_num>target_num: print('\\nToo large! Try again!')\n",
    "    count+=1\n",
    "if count>3: print('\\nSorry, You lost! Better luck next time!')"
   ]
  },
  {
   "cell_type": "code",
   "execution_count": 176,
   "id": "c35370b3",
   "metadata": {},
   "outputs": [
    {
     "name": "stdout",
     "output_type": "stream",
     "text": [
      "Target Number is 15\n",
      "Guess a number between 1 and 20 \n",
      "\n",
      "You can try 4  times:\n",
      "Your guess is :2\n",
      "Too small!\n",
      "\n",
      "You can try 3  times:\n",
      "Your guess is :15\n",
      "Congratulation!!! You won the game!\n"
     ]
    }
   ],
   "source": [
    "# Write a function that allows you to guess the integer within the given range by fixed number of try\n",
    "def guess_the_number(a,b):\n",
    "    import random\n",
    "    import math\n",
    "    target_num=random.randint(a,b)\n",
    "    print ('Target Number is', target_num)\n",
    "    print ('Guess a number between', a, 'and',b,'\\n')\n",
    "    count = 1\n",
    "    try_limit = int(math.log(b-a+1,2))\n",
    "    print('You can try',try_limit-count+1,' times:')\n",
    "    while count<=try_limit:\n",
    "        guess_num = int(input('Your guess is :'))\n",
    "        if guess_num == target_num: print('Congratulation!!! You won the game!'); break\n",
    "        elif guess_num<target_num: print('Too small!\\n')\n",
    "        elif guess_num>target_num: print('Too large!\\n')\n",
    "        count+=1\n",
    "        print('You can try',try_limit-count+1,' times:')\n",
    "        \n",
    "    if count>try_limit: print('Sorry, You lost! Better luck next time!') \n",
    "\n",
    "guess_the_number(1,20)"
   ]
  },
  {
   "cell_type": "markdown",
   "id": "c2601094",
   "metadata": {},
   "source": [
    "# Python: Variables"
   ]
  },
  {
   "cell_type": "markdown",
   "id": "d47b043c",
   "metadata": {},
   "source": [
    "####  a) Use input( ) function to accept numbers from user as a value of a variable x.\n"
   ]
  },
  {
   "cell_type": "code",
   "execution_count": 178,
   "id": "61beb392",
   "metadata": {},
   "outputs": [
    {
     "name": "stdout",
     "output_type": "stream",
     "text": [
      "Enter a value : 4\n"
     ]
    }
   ],
   "source": [
    "x=input(\"Enter a value : \")\n"
   ]
  },
  {
   "cell_type": "markdown",
   "id": "5898c0f0",
   "metadata": {},
   "source": [
    "#### b) Check the data type using type( ) function.\n"
   ]
  },
  {
   "cell_type": "code",
   "execution_count": 179,
   "id": "347989f8",
   "metadata": {},
   "outputs": [
    {
     "data": {
      "text/plain": [
       "str"
      ]
     },
     "execution_count": 179,
     "metadata": {},
     "output_type": "execute_result"
    }
   ],
   "source": [
    "type(x)"
   ]
  },
  {
   "cell_type": "markdown",
   "id": "5011ac42",
   "metadata": {},
   "source": [
    "#### c) Also convert the data type to integer and assign to the variable y.\n"
   ]
  },
  {
   "cell_type": "code",
   "execution_count": 180,
   "id": "6e91341a",
   "metadata": {},
   "outputs": [],
   "source": [
    "y=int(x)"
   ]
  },
  {
   "cell_type": "markdown",
   "id": "895b3497",
   "metadata": {},
   "source": [
    "#### d) Convert the data type into float and assign to the variable z .\n"
   ]
  },
  {
   "cell_type": "code",
   "execution_count": 181,
   "id": "e700027a",
   "metadata": {},
   "outputs": [],
   "source": [
    "z=float(y)"
   ]
  },
  {
   "cell_type": "markdown",
   "id": "4ee067d4",
   "metadata": {},
   "source": [
    "#### e) display the data type of x, y, and z"
   ]
  },
  {
   "cell_type": "code",
   "execution_count": 182,
   "id": "caf10cb1",
   "metadata": {},
   "outputs": [
    {
     "name": "stdout",
     "output_type": "stream",
     "text": [
      "x =  4 y =  4 z =  4.0\n"
     ]
    }
   ],
   "source": [
    "print ('x = ',x,'y = ',y,'z = ',z)"
   ]
  },
  {
   "cell_type": "markdown",
   "id": "23fe1bd6",
   "metadata": {},
   "source": [
    "# Strings in Python"
   ]
  },
  {
   "cell_type": "markdown",
   "id": "eac98260",
   "metadata": {},
   "source": [
    "#### a) Write a Python program to calculate the length of a string."
   ]
  },
  {
   "cell_type": "code",
   "execution_count": 183,
   "id": "7a42b3ee",
   "metadata": {},
   "outputs": [
    {
     "data": {
      "text/plain": [
       "11"
      ]
     },
     "execution_count": 183,
     "metadata": {},
     "output_type": "execute_result"
    }
   ],
   "source": [
    "str='Hello world'\n",
    "len_str=len(str)\n",
    "len_str"
   ]
  },
  {
   "cell_type": "markdown",
   "id": "823ab3ec",
   "metadata": {},
   "source": [
    "#### b) Write a Python program to count the number of characters in a string.\n"
   ]
  },
  {
   "cell_type": "code",
   "execution_count": 184,
   "id": "20680e7e",
   "metadata": {},
   "outputs": [
    {
     "name": "stdout",
     "output_type": "stream",
     "text": [
      "Count-including spaces:  11\n",
      "Count- without spaces:  10\n"
     ]
    }
   ],
   "source": [
    "# counting charecters including spaces\n",
    "count_with_space=len_str\n",
    "# counting charecters without spaces\n",
    "remove_space=str.replace(\" \",\"\")\n",
    "count_without_space=len(remove_space)\n",
    "\n",
    "print('Count-including spaces: ',count_with_space)\n",
    "print('Count- without spaces: ',count_without_space)\n"
   ]
  },
  {
   "cell_type": "markdown",
   "id": "fd734958",
   "metadata": {},
   "source": [
    "#### c) Write a Python program to remove the kth index character from a string."
   ]
  },
  {
   "cell_type": "code",
   "execution_count": 185,
   "id": "415735c4",
   "metadata": {},
   "outputs": [
    {
     "name": "stdout",
     "output_type": "stream",
     "text": [
      "Index = 5\n",
      "Original string: Data Science\n",
      "String after removing character at index 5 : Data cience\n"
     ]
    }
   ],
   "source": [
    "# Input string\n",
    "input_str = \"Data Science\"\n",
    "\n",
    "# Index of the character to remove (0-based index)\n",
    "k = int(input('Index = '))\n",
    "\n",
    "# Check if k is a valid index\n",
    "if k >= 0 and k < len(input_str):\n",
    "    # Convert the string to a list of characters\n",
    "    str_list = list(input_str)\n",
    "    \n",
    "    # Remove the character at index k\n",
    "    str_list.pop(k)\n",
    "    \n",
    "    # Join the list back into a string\n",
    "    new_string = ''.join(str_list)\n",
    "    \n",
    "    print(\"Original string:\", input_str)\n",
    "    print(\"String after removing character at index\", k, \":\", new_string)\n",
    "else:\n",
    "    print(\"Invalid index. Please provide a valid index.\")\n"
   ]
  },
  {
   "cell_type": "markdown",
   "id": "b67d6144",
   "metadata": {},
   "source": [
    "#### d) Write a Python program to remove the characters which have odd index values of a given string."
   ]
  },
  {
   "cell_type": "code",
   "execution_count": 186,
   "id": "1c5ac166",
   "metadata": {},
   "outputs": [
    {
     "name": "stdout",
     "output_type": "stream",
     "text": [
      "Original string: Welcome to the New Class\n",
      "New string: Wloet h e ls\n"
     ]
    }
   ],
   "source": [
    "# Input string\n",
    "input_str = \"Welcome to the New Class\"\n",
    "# Initialize an empty string to store the result\n",
    "new_str=''\n",
    "\n",
    "for index in range(len(input_str)):\n",
    "     if index%2==0:\n",
    "        new_str+=input_str[index]\n",
    "    \n",
    "print(\"Original string:\", input_str)\n",
    "print(\"New string:\", new_str)"
   ]
  },
  {
   "cell_type": "markdown",
   "id": "c72c4a41",
   "metadata": {},
   "source": [
    "#### e) Write a Python script that takes input from the user and displays that input back in upper and lower cases."
   ]
  },
  {
   "cell_type": "code",
   "execution_count": 187,
   "id": "4eb714b1",
   "metadata": {},
   "outputs": [
    {
     "name": "stdout",
     "output_type": "stream",
     "text": [
      "PYTHON IS FUN\n",
      "python is fun\n"
     ]
    }
   ],
   "source": [
    "# string\n",
    "my_str='Python is Fun'\n",
    "# print in uppercase\n",
    "print(my_str.upper())\n",
    "\n",
    "# print in lower\n",
    "print(my_str.lower())"
   ]
  },
  {
   "cell_type": "markdown",
   "id": "3326f41d",
   "metadata": {},
   "source": [
    "#### f) Write a Python program to sort a string"
   ]
  },
  {
   "cell_type": "code",
   "execution_count": 188,
   "id": "875e5bbd",
   "metadata": {},
   "outputs": [
    {
     "name": "stdout",
     "output_type": "stream",
     "text": [
      "Original String :  Python\n",
      "Sorted string: hnopty\n",
      "Sorted string (preserving upper/lowercases): hnoPty\n"
     ]
    }
   ],
   "source": [
    "# string\n",
    "my_str='Python'\n",
    "\n",
    "# converting the uppercase letter to lowercase while sorting\n",
    "sorted_string1 = ''.join(sorted(my_str.lower()))\n",
    "\n",
    "# Sort the string while preserving spaces and capitalization\n",
    "sorted_string2 = ''.join(sorted(my_str, key=lambda x: (x.lower(), x.islower())))\n",
    "\n",
    "\n",
    "# Display the sorted string\n",
    "print('Original String : ', my_str)\n",
    "print(\"Sorted string:\", sorted_string1)\n",
    "print(\"Sorted string (preserving upper/lowercases):\", sorted_string2)"
   ]
  },
  {
   "cell_type": "markdown",
   "id": "0ed4dfc8",
   "metadata": {},
   "source": [
    "#### g) Write a Python program to reverse a string."
   ]
  },
  {
   "cell_type": "code",
   "execution_count": 189,
   "id": "74af2f09",
   "metadata": {},
   "outputs": [
    {
     "name": "stdout",
     "output_type": "stream",
     "text": [
      "String :  Anaconda\n",
      "Reverse String :  adnocanA\n"
     ]
    }
   ],
   "source": [
    "# string\n",
    "my_str=\"Anaconda\"\n",
    "# empty string to store the reserve value\n",
    "reverse_string=\"\"\n",
    "\n",
    "#iterates through the string and stacks the i in the reverse_string\n",
    "for i in my_str:\n",
    "    reverse_string=i+reverse_string\n",
    "\n",
    "print('String : ',my_str)\n",
    "print('Reverse String : ',reverse_string)"
   ]
  },
  {
   "cell_type": "markdown",
   "id": "f2d39945",
   "metadata": {},
   "source": [
    "#### h) Write a Python program to convert a given string into a list."
   ]
  },
  {
   "cell_type": "code",
   "execution_count": 190,
   "id": "cb8b8b5e",
   "metadata": {},
   "outputs": [
    {
     "name": "stdout",
     "output_type": "stream",
     "text": [
      "String : \" Anaconda \" to a list : ['A', 'n', 'a', 'c', 'o', 'n', 'd', 'a']\n"
     ]
    }
   ],
   "source": [
    "# string\n",
    "my_str=\"Anaconda\"\n",
    "# Convert to a list\n",
    "\n",
    "list_str=list(my_str)\n",
    "\n",
    "print('String : \"',my_str,'\" to a list :',list_str)"
   ]
  },
  {
   "cell_type": "markdown",
   "id": "6f8f7ef8",
   "metadata": {},
   "source": [
    "# Python: Lists"
   ]
  },
  {
   "cell_type": "markdown",
   "id": "d4508b20",
   "metadata": {},
   "source": [
    "#### a) Write a Python program to sum (or product) all the items in a list"
   ]
  },
  {
   "cell_type": "code",
   "execution_count": 191,
   "id": "c060fa2b",
   "metadata": {},
   "outputs": [
    {
     "name": "stdout",
     "output_type": "stream",
     "text": [
      "Sum = 13\n",
      "Product = 48\n"
     ]
    }
   ],
   "source": [
    "def list_sum(my_list):\n",
    "    # initializing \n",
    "    sum=0 \n",
    "    for item in  my_list:\n",
    "        sum=sum+item\n",
    "    return sum\n",
    "\n",
    "def list_product(my_list):\n",
    "    if len(my_list) == 0:\n",
    "        return None  # Return None for an empty list\n",
    "    \n",
    "    # initializing \n",
    "    product = 1\n",
    "    for item in my_list:\n",
    "        product *= item\n",
    "    return product\n",
    "\n",
    "my_list=[1,2,4,6]\n",
    "print('Sum =', list_sum(my_list))\n",
    "print('Product =',list_product(my_list))"
   ]
  },
  {
   "cell_type": "markdown",
   "id": "397c16dd",
   "metadata": {},
   "source": [
    "#### b) Write a Python program to get the largest/smallest number from a list"
   ]
  },
  {
   "cell_type": "code",
   "execution_count": 192,
   "id": "c0f65031",
   "metadata": {},
   "outputs": [
    {
     "name": "stdout",
     "output_type": "stream",
     "text": [
      "The largest number is : 9\n",
      "The smallest number is : 1\n"
     ]
    }
   ],
   "source": [
    "# List\n",
    "my_list = [5, 2, 9, 1, 7, 3]\n",
    "#checking if the list is empty\n",
    "if len(my_list) == 0:\n",
    "        print(\"The list is empty\")\n",
    "largest=max(my_list) # Finding the largest number\n",
    "smallest=min(my_list)# Finding the smallest number\n",
    "\n",
    "print(\"The largest number is :\",largest)\n",
    "print(\"The smallest number is :\",smallest)"
   ]
  },
  {
   "cell_type": "markdown",
   "id": "02dda268",
   "metadata": {},
   "source": [
    "#### c) Write a Python program to print the numbers of a specified list after removing even numbers from it"
   ]
  },
  {
   "cell_type": "code",
   "execution_count": 193,
   "id": "4debbdd7",
   "metadata": {},
   "outputs": [
    {
     "name": "stdout",
     "output_type": "stream",
     "text": [
      "Original list : [5, 2, 9, 1, 7, 10, 3, 14, 23, 44]\n",
      "New list :  [5, 9, 1, 7, 3, 23]\n"
     ]
    }
   ],
   "source": [
    "# function to remove even numbers from a list\n",
    "def list_remove(my_list):\n",
    "    # iterating through the list to access each number\n",
    "    for i in my_list:\n",
    "        #checking if the number is even\n",
    "        if i%2==0:\n",
    "            #removing the checked number\n",
    "            my_list.remove(i)\n",
    "    return my_list\n",
    "# List\n",
    "my_list = [5, 2, 9, 1, 7, 10,3,14,23,44]\n",
    "# printing the original list\n",
    "print('Original list :', my_list)\n",
    "# printing the numbers of a specified list after removing even numbers from it\n",
    "print('New list : ',list_remove(my_list))"
   ]
  },
  {
   "cell_type": "markdown",
   "id": "10ab3d5f",
   "metadata": {},
   "source": [
    "#### d) Write a Python program to select the odd number of a list"
   ]
  },
  {
   "cell_type": "code",
   "execution_count": 194,
   "id": "1384ab03",
   "metadata": {},
   "outputs": [
    {
     "name": "stdout",
     "output_type": "stream",
     "text": [
      "Odd number : [5, 9, 1, 7, 3, 23]\n"
     ]
    }
   ],
   "source": [
    "# List\n",
    "my_list = [5, 2, 9, 1, 7, 10,3,14,23,44]\n",
    "# Use list comprehension to select odd numbers\n",
    "odd_numbers = [x for x in my_list if x % 2 != 0]\n",
    "\n",
    "#OR\n",
    "# empty list \n",
    "odd_numbers2=[]\n",
    "for i in my_list:\n",
    "    #checking if the number is odd\n",
    "    if i%2!=0:\n",
    "        odd_numbers2.append(i) # added the odd numbers to the new list \n",
    "\n",
    "print ('Odd number :',odd_numbers)           \n"
   ]
  },
  {
   "cell_type": "markdown",
   "id": "34deaa7d",
   "metadata": {},
   "source": [
    "#### e) Write a Python program to convert a list of characters into a string"
   ]
  },
  {
   "cell_type": "code",
   "execution_count": 195,
   "id": "e8419069",
   "metadata": {},
   "outputs": [
    {
     "data": {
      "text/plain": [
       "'Python'"
      ]
     },
     "execution_count": 195,
     "metadata": {},
     "output_type": "execute_result"
    }
   ],
   "source": [
    "# List of charecter\n",
    "list_chr=['P','y','t','h','o', 'n']\n",
    "list_to_str=''.join(list_chr)\n",
    "list_to_str"
   ]
  },
  {
   "cell_type": "markdown",
   "id": "f97d8bea",
   "metadata": {},
   "source": [
    "#### f) Write a Python program to find the index of an item in a specified list"
   ]
  },
  {
   "cell_type": "code",
   "execution_count": 198,
   "id": "2a20534f",
   "metadata": {},
   "outputs": [
    {
     "name": "stdout",
     "output_type": "stream",
     "text": [
      "Item to find :1\n",
      "The index of 1 is = 3\n"
     ]
    }
   ],
   "source": [
    "my_list = [5, 2, 9, 1, 7, 10, 3 , 14 , 23 ,44]\n",
    "# taking item as input to find the index\n",
    "item_to_find=int(input(\"Item to find :\"))\n",
    "\n",
    "try:\n",
    "   index_n=my_list.index(item_to_find) # finding the index\n",
    "   print('The index of',item_to_find,'is =',index_n)\n",
    "\n",
    "# Error message if the item is not in the list\n",
    "except ValueError:\n",
    "    print('The number',item_to_find, 'is not in the list')\n"
   ]
  },
  {
   "cell_type": "markdown",
   "id": "fd772401",
   "metadata": {},
   "source": [
    "#### g) Write a Python program to add a list to the second list"
   ]
  },
  {
   "cell_type": "code",
   "execution_count": 199,
   "id": "e26155a3",
   "metadata": {},
   "outputs": [
    {
     "name": "stdout",
     "output_type": "stream",
     "text": [
      "Combined list :  [5, 2, 9, 1, 7, 10, 3, 14, 23, 44]\n",
      "Combined list :  [5, 2, 9, 1, 7, 10, 3, 14, 23, 44]\n"
     ]
    }
   ],
   "source": [
    "list1 = [5, 2, 9, 1, 7]\n",
    "list2=[10, 3 , 14 , 23 ,44]\n",
    "\n",
    "#combining list using operators\n",
    "add_lists=list1+list2\n",
    "print(\"Combined list : \",add_lists)\n",
    "#OR\n",
    "#combining list using extend function\n",
    "list1.extend(list2)\n",
    "\n",
    "print(\"Combined list : \",list1)\n"
   ]
  },
  {
   "cell_type": "markdown",
   "id": "702a3a4e",
   "metadata": {},
   "source": [
    "#### h) Write a Python program to get unique values from a list and to count unique values inside a list. Also get the frequency of the elements in the list."
   ]
  },
  {
   "cell_type": "code",
   "execution_count": 200,
   "id": "04bf5b7a",
   "metadata": {},
   "outputs": [
    {
     "name": "stdout",
     "output_type": "stream",
     "text": [
      "Unique values: [1, 2, 3, 4]\n",
      "1: 3\n",
      "2: 2\n",
      "3: 4\n",
      "4: 7\n"
     ]
    }
   ],
   "source": [
    "# Sample list\n",
    "my_list = [1, 1, 1, 2, 2, 3, 3, 3, 3, 4, 4, 4, 4,4,4,4]\n",
    "\n",
    "# Converting list to set for unique values then again to list\n",
    "unique_values = list(set(my_list))\n",
    "# Display unique values\n",
    "print(\"Unique values:\", unique_values)\n",
    "\n",
    "# empty dictionary to store the frequency\n",
    "frequency_dict={}\n",
    "# counting frequency\n",
    "for element in my_list:\n",
    "    if element in frequency_dict:\n",
    "        frequency_dict[element]+=1\n",
    "    else:\n",
    "        frequency_dict[element]=1\n",
    "# Display frequency of each unique value\n",
    "for value in unique_values:\n",
    "    count=frequency_dict[value]\n",
    "    print(f\"{value}: {count}\")\n"
   ]
  },
  {
   "cell_type": "markdown",
   "id": "873f630b",
   "metadata": {},
   "source": [
    "#### i) Write a Python Program to Extract elements with Frequency greater than K"
   ]
  },
  {
   "cell_type": "code",
   "execution_count": 201,
   "id": "504f5e61",
   "metadata": {},
   "outputs": [
    {
     "name": "stdout",
     "output_type": "stream",
     "text": [
      "Elements with frequency greater than 2: [3, 4]\n"
     ]
    }
   ],
   "source": [
    "def extract_elements(input_list, k):\n",
    "    # Create a dictionary to store the frequency of elements\n",
    "    element_frequency = {}\n",
    "\n",
    "    # Count the frequency of each element in the input list\n",
    "    for element in input_list:\n",
    "        if element in element_frequency:\n",
    "            element_frequency[element] += 1\n",
    "        else:\n",
    "            element_frequency[element] = 1\n",
    "\n",
    "    # Extract elements with frequency greater than k\n",
    "    result = [element for element, frequency in element_frequency.items() if frequency > k]\n",
    "\n",
    "    return result\n",
    "\n",
    "# Sample input list\n",
    "my_list = [1, 2, 2, 3, 3, 3, 4, 4, 4, 4]\n",
    "\n",
    "# Set the value of K\n",
    "k = 2\n",
    "\n",
    "# Call the function to extract elements with frequency greater than K\n",
    "result_list = extract_elements(my_list, k)\n",
    "\n",
    "# Display the result\n",
    "print(f\"Elements with frequency greater than {k}: {result_list}\")\n"
   ]
  },
  {
   "cell_type": "markdown",
   "id": "7b4a2f6a",
   "metadata": {},
   "source": [
    "#### j) Write a Python program to reverse All Strings in String List"
   ]
  },
  {
   "cell_type": "code",
   "execution_count": 202,
   "id": "228de2eb",
   "metadata": {},
   "outputs": [
    {
     "name": "stdout",
     "output_type": "stream",
     "text": [
      "Original list  ['tea', 'coffee', 'tan', 'ant']\n",
      "Reverse List: ['aet', 'eeffoc', 'nat', 'tna']\n"
     ]
    }
   ],
   "source": [
    "#Function to reverse string in a string list\n",
    "def reverse_str_list(str_list):   \n",
    "    # # empty list to store the reverse strings\n",
    "    reverse_str_list=[]\n",
    "    #reversing each string element in the list\n",
    "    for string in str_list:\n",
    "        reverse_str=''\n",
    "        for char in string:\n",
    "            reverse_str=char+reverse_str\n",
    "        reverse_str_list.append(reverse_str)\n",
    "    return reverse_str_list\n",
    "\n",
    "str_list=[\"tea\", \"coffee\", \"tan\", 'ant']   \n",
    "print('Original list ',str_list)\n",
    "print('Reverse List:', reverse_str_list(str_list))"
   ]
  },
  {
   "cell_type": "markdown",
   "id": "2025f71e",
   "metadata": {},
   "source": [
    "# Python : Dictionary"
   ]
  },
  {
   "cell_type": "markdown",
   "id": "48c43b91",
   "metadata": {},
   "source": [
    "#### a) Write a Python script to create a dictionary \n",
    "* (i) Create a dictionary named fruit with keys: (names, color, taste). add Mango and Lemon as the value of key- names, yellow and green as the value of color, sweet and sour as the value of taste. \n",
    "* (ii) display the dictionary. \n",
    "* (iii) add a new value, Apple in the names"
   ]
  },
  {
   "cell_type": "code",
   "execution_count": 203,
   "id": "7e469826",
   "metadata": {},
   "outputs": [
    {
     "name": "stdout",
     "output_type": "stream",
     "text": [
      "Dictionary : {'Names': ['Mango', 'Lemon'], 'color': ['yellow', 'green'], 'taste': ['sweet', 'sour']}\n",
      "Dictionary after adding Apple : {'Names': ['Mango', 'Lemon', 'Apple'], 'color': ['yellow', 'green'], 'taste': ['sweet', 'sour']}\n"
     ]
    }
   ],
   "source": [
    "# (i) Creating Dictionary\n",
    "fruit={'Names':['Mango','Lemon'],\n",
    "       'color':['yellow','green'],\n",
    "       'taste':['sweet','sour']  }\n",
    "#(ii) displaying the dictionary\n",
    "print ('Dictionary :',fruit)\n",
    "\n",
    "# (iii) add a new value, Apple in the names\n",
    "fruit['Names'].append('Apple')\n",
    "\n",
    "print ('Dictionary after adding Apple :',fruit)"
   ]
  },
  {
   "cell_type": "markdown",
   "id": "92082177",
   "metadata": {},
   "source": [
    "#### b) Write a Python program to add a key to a dictionary\n"
   ]
  },
  {
   "cell_type": "code",
   "execution_count": 204,
   "id": "07a5e4f5",
   "metadata": {},
   "outputs": [
    {
     "name": "stdout",
     "output_type": "stream",
     "text": [
      "Original Dictionary {'Name': 'Abc', 'Age': 25, 'Gender': 'Female'}\n",
      "After adding key, Dictionary {'Name': 'Abc', 'Age': 25, 'Gender': 'Female', 'Country': 'Canada'}\n"
     ]
    }
   ],
   "source": [
    "# Dictionary\n",
    "dict={'Name':'Abc',\n",
    "      'Age': 25,\n",
    "      'Gender':'Female'\n",
    "     }     \n",
    "print ('Original Dictionary', dict)\n",
    "\n",
    "# add a key to a dictionary\n",
    "dict['Country']='Canada'\n",
    "print ('After adding key, Dictionary', dict)"
   ]
  },
  {
   "cell_type": "markdown",
   "id": "2f398cef",
   "metadata": {},
   "source": [
    "#### c) Write a Python program to check whether a given key already exists in a dictionary."
   ]
  },
  {
   "cell_type": "code",
   "execution_count": 205,
   "id": "35828596",
   "metadata": {},
   "outputs": [
    {
     "name": "stdout",
     "output_type": "stream",
     "text": [
      "Country  is in the dictionary\n"
     ]
    }
   ],
   "source": [
    "# using the previous dictionary\n",
    "dict\n",
    "# key to search in the dictionary\n",
    "key='Country'\n",
    "#check whether a given key already exists in a dictionary\n",
    "if key in dict:\n",
    "    print(key, \" is in the dictionary\")\n",
    "else:\n",
    "    print(key,'is not in the dictionary')"
   ]
  },
  {
   "cell_type": "markdown",
   "id": "a91184d1",
   "metadata": {},
   "source": [
    "#### d) Access dictionary key’s element by index."
   ]
  },
  {
   "cell_type": "code",
   "execution_count": 206,
   "id": "af181466",
   "metadata": {},
   "outputs": [
    {
     "name": "stdout",
     "output_type": "stream",
     "text": [
      "Country\n"
     ]
    }
   ],
   "source": [
    "# using the previous dictionary\n",
    "dict\n",
    "index=3\n",
    "try:\n",
    "    print(list(dict)[index])\n",
    "# if the index is out of dictionary it will through exception error\n",
    "except ValueError: \n",
    "    print(\"Out of index\")\n"
   ]
  },
  {
   "cell_type": "markdown",
   "id": "6fea7c02",
   "metadata": {},
   "source": [
    "#### e) Write a Python program to iterate over dictionaries using for loops."
   ]
  },
  {
   "cell_type": "code",
   "execution_count": 207,
   "id": "d1cf3f96",
   "metadata": {},
   "outputs": [
    {
     "name": "stdout",
     "output_type": "stream",
     "text": [
      "Name\n",
      "Age\n",
      "Gender\n",
      "Country\n",
      "Abc\n",
      "25\n",
      "Female\n",
      "Canada\n",
      "Name  :  Abc\n",
      "Age  :  25\n",
      "Gender  :  Female\n",
      "Country  :  Canada\n"
     ]
    }
   ],
   "source": [
    "# using the previous dictionary\n",
    "dict\n",
    "#for accessing only keys\n",
    "for key in dict.keys():\n",
    "    print(key)\n",
    "#for accessing only values    \n",
    "for value in dict.values():\n",
    "    print(value)\n",
    "    \n",
    "#for accessing keys and values\n",
    "for key,value in dict.items():\n",
    "    print(key,' : ',value)"
   ]
  },
  {
   "cell_type": "markdown",
   "id": "76edebdf",
   "metadata": {},
   "source": [
    "#### f) Write a Python script to print a dictionary where the keys are numbers between 1 and n (both included) and the values are square of keys."
   ]
  },
  {
   "cell_type": "code",
   "execution_count": 208,
   "id": "91497a2b",
   "metadata": {},
   "outputs": [
    {
     "name": "stdout",
     "output_type": "stream",
     "text": [
      "{1: 1, 2: 4, 3: 9, 4: 16}\n"
     ]
    }
   ],
   "source": [
    "# empty dictionary to store keys and values\n",
    "my_dict={}\n",
    "n=5\n",
    "for key in range(1,n):\n",
    "   my_dict[key]=key**2 # values are square of key\n",
    "print(my_dict)"
   ]
  },
  {
   "cell_type": "markdown",
   "id": "4b132144",
   "metadata": {},
   "source": [
    "#### g) Create a dictionary by extracting the keys from a given dictionary"
   ]
  },
  {
   "cell_type": "code",
   "execution_count": 209,
   "id": "e94f300a",
   "metadata": {},
   "outputs": [
    {
     "name": "stdout",
     "output_type": "stream",
     "text": [
      "Dictionary from keys : {'Key 1': None, 'Key 2': None, 'Key 3': None, 'Key 4': None, 'Key 5': None}\n"
     ]
    }
   ],
   "source": [
    "# Given dictionary\n",
    "dict={'Key 1' :1,\n",
    "      'Key 2' :2,\n",
    "      'Key 3' :3,\n",
    "      'Key 4' :4,\n",
    "      'Key 5' :5,\n",
    "       }\n",
    "new_dict={}\n",
    "#extracting key\n",
    "for key in dict.keys():\n",
    "    new_dict[key]=None\n",
    "print(\"Dictionary from keys :\", new_dict)"
   ]
  },
  {
   "cell_type": "markdown",
   "id": "2c20fb27",
   "metadata": {},
   "source": [
    "#### h) Write a Python program to Rename key of a dictionary"
   ]
  },
  {
   "cell_type": "code",
   "execution_count": 210,
   "id": "746bbfde",
   "metadata": {},
   "outputs": [
    {
     "name": "stdout",
     "output_type": "stream",
     "text": [
      "Original dictionary {'old_key': 1, 'Key 2': 2, 'Key 3': 3, 'Key 4': 4, 'Key 5': 5}\n",
      "Dictionary with new Key {'Key 2': 2, 'Key 3': 3, 'Key 4': 4, 'Key 5': 5, 'New_key': 1}\n"
     ]
    }
   ],
   "source": [
    "# Given dictionary\n",
    "dict={'old_key' :1,\n",
    "      'Key 2' :2,\n",
    "      'Key 3' :3,\n",
    "      'Key 4' :4,\n",
    "      'Key 5' :5,\n",
    "       }\n",
    "print('Original dictionary', dict)\n",
    "dict['New_key']=dict.pop('old_key')\n",
    "print('Dictionary with new Key', dict)"
   ]
  },
  {
   "cell_type": "markdown",
   "id": "83d72629",
   "metadata": {},
   "source": [
    "#### i) Write a program to print only keys of a dictionary"
   ]
  },
  {
   "cell_type": "code",
   "execution_count": 211,
   "id": "4d32df80",
   "metadata": {},
   "outputs": [
    {
     "name": "stdout",
     "output_type": "stream",
     "text": [
      "dict_keys(['Key 1', 'Key 2', 'Key 3', 'Key 4', 'Key 5'])\n"
     ]
    }
   ],
   "source": [
    "# dictionary\n",
    "dict={'Key 1' :1,\n",
    "      'Key 2' :2,\n",
    "      'Key 3' :3,\n",
    "      'Key 4' :4,\n",
    "      'Key 5' :5,\n",
    "       }\n",
    "print(dict.keys())"
   ]
  },
  {
   "cell_type": "markdown",
   "id": "a50ee5db",
   "metadata": {},
   "source": [
    "#### j) Write a program to print values of dictionary."
   ]
  },
  {
   "cell_type": "code",
   "execution_count": 212,
   "id": "8d39d9b7",
   "metadata": {},
   "outputs": [
    {
     "name": "stdout",
     "output_type": "stream",
     "text": [
      "dict_values([1, 2, 3, 4, 5])\n"
     ]
    }
   ],
   "source": [
    "print(dict.values())"
   ]
  },
  {
   "cell_type": "markdown",
   "id": "5b6fed93",
   "metadata": {},
   "source": [
    "# Python: Loops"
   ]
  },
  {
   "cell_type": "markdown",
   "id": "79e8520b",
   "metadata": {},
   "source": [
    "#### a) Print First 10 natural numbers using while loop"
   ]
  },
  {
   "cell_type": "code",
   "execution_count": 213,
   "id": "a55ed112",
   "metadata": {},
   "outputs": [
    {
     "name": "stdout",
     "output_type": "stream",
     "text": [
      "1\n",
      "2\n",
      "3\n",
      "4\n",
      "5\n",
      "6\n",
      "7\n",
      "8\n",
      "9\n",
      "10\n"
     ]
    }
   ],
   "source": [
    "# Initialize a variable to store the current number\n",
    "number = 1\n",
    "\n",
    "# Use a while loop to print the first 10 natural numbers\n",
    "while number <= 10:\n",
    "    print(number)\n",
    "    number += 1"
   ]
  },
  {
   "cell_type": "markdown",
   "id": "60cd8eea",
   "metadata": {},
   "source": [
    "#### b) Write a program to print multiplication table of a given number"
   ]
  },
  {
   "cell_type": "code",
   "execution_count": 214,
   "id": "0b144a2e",
   "metadata": {},
   "outputs": [
    {
     "name": "stdout",
     "output_type": "stream",
     "text": [
      "8  X  1  =  8\n",
      "8  X  2  =  16\n",
      "8  X  3  =  24\n",
      "8  X  4  =  32\n",
      "8  X  5  =  40\n",
      "8  X  6  =  48\n",
      "8  X  7  =  56\n",
      "8  X  8  =  64\n",
      "8  X  9  =  72\n",
      "8  X  10  =  80\n"
     ]
    }
   ],
   "source": [
    "# Given number\n",
    "num=8\n",
    "for i in range(1,11):\n",
    "    print (num,' X ',i,' = ', num*i)"
   ]
  },
  {
   "cell_type": "markdown",
   "id": "e65b65e3",
   "metadata": {},
   "source": [
    "#### c) Display numbers from a list using loop"
   ]
  },
  {
   "cell_type": "code",
   "execution_count": 215,
   "id": "437dbc88",
   "metadata": {},
   "outputs": [
    {
     "name": "stdout",
     "output_type": "stream",
     "text": [
      "1\n",
      "2\n",
      "3\n",
      "4\n",
      "5\n"
     ]
    }
   ],
   "source": [
    "# list of numbers\n",
    "numbers = [1, 2, 3, 4, 5]\n",
    "\n",
    "# for loop to display each number\n",
    "for number in numbers:\n",
    "    print(number)"
   ]
  },
  {
   "cell_type": "markdown",
   "id": "0d89de13",
   "metadata": {},
   "source": [
    "#### d) Print list in reverse order using a loop"
   ]
  },
  {
   "cell_type": "code",
   "execution_count": 216,
   "id": "6ef04346",
   "metadata": {},
   "outputs": [
    {
     "name": "stdout",
     "output_type": "stream",
     "text": [
      "5\n",
      "4\n",
      "3\n",
      "2\n",
      "1\n"
     ]
    }
   ],
   "source": [
    "# list of numbers\n",
    "numbers = [1, 2, 3, 4, 5]\n",
    "# for loop to display each number\n",
    "for number in reversed(numbers):\n",
    "    print(number)"
   ]
  },
  {
   "cell_type": "markdown",
   "id": "28da1700",
   "metadata": {},
   "source": [
    "#### e) Display numbers from -10 to -1 using for loop"
   ]
  },
  {
   "cell_type": "code",
   "execution_count": 217,
   "id": "d51efe3c",
   "metadata": {},
   "outputs": [
    {
     "name": "stdout",
     "output_type": "stream",
     "text": [
      "-10\n",
      "-9\n",
      "-8\n",
      "-7\n",
      "-6\n",
      "-5\n",
      "-4\n",
      "-3\n",
      "-2\n",
      "-1\n"
     ]
    }
   ],
   "source": [
    "for i in range(-10,0):\n",
    "    print (i)"
   ]
  },
  {
   "cell_type": "markdown",
   "id": "f3fad97c",
   "metadata": {},
   "source": [
    "#### f) Find the factorial of a given number"
   ]
  },
  {
   "cell_type": "code",
   "execution_count": 218,
   "id": "57f8022c",
   "metadata": {},
   "outputs": [
    {
     "data": {
      "text/plain": [
       "120"
      ]
     },
     "execution_count": 218,
     "metadata": {},
     "output_type": "execute_result"
    }
   ],
   "source": [
    "# number\n",
    "num=5\n",
    "# initializing factorial\n",
    "fact=1\n",
    "for i in range(1,num+1):\n",
    "    fact=fact*i \n",
    "fact"
   ]
  },
  {
   "cell_type": "markdown",
   "id": "77b2800b",
   "metadata": {},
   "source": [
    "#### g) Use a loop to display elements from a given list present at odd index positions"
   ]
  },
  {
   "cell_type": "code",
   "execution_count": 219,
   "id": "00c1a04e",
   "metadata": {},
   "outputs": [
    {
     "name": "stdout",
     "output_type": "stream",
     "text": [
      "2\n",
      "4\n",
      "6\n",
      "8\n"
     ]
    }
   ],
   "source": [
    "# list \n",
    "m_list = [1, 2, 3, 4, 5, 6, 7, 8, 9]\n",
    "\n",
    "# Get the length of the list\n",
    "n = len(m_list)\n",
    "\n",
    "# Use a while loop to display elements at odd index positions\n",
    "i = 1\n",
    "for i in range(1, len(m_list), 2):\n",
    "    print(m_list[i])"
   ]
  },
  {
   "cell_type": "markdown",
   "id": "7be002f6",
   "metadata": {},
   "source": [
    "#### h) Calculate the cube of all numbers from 1 to a given number\n",
    "Python: User-defined Functions"
   ]
  },
  {
   "cell_type": "code",
   "execution_count": 220,
   "id": "cb6418fa",
   "metadata": {},
   "outputs": [
    {
     "name": "stdout",
     "output_type": "stream",
     "text": [
      "1\n",
      "8\n",
      "27\n",
      "64\n",
      "125\n"
     ]
    }
   ],
   "source": [
    "num=5\n",
    "# initializing factorial\n",
    "for i in range(1,num+1):\n",
    "    cube=i**3\n",
    "    print (cube)"
   ]
  },
  {
   "cell_type": "markdown",
   "id": "60bca104",
   "metadata": {},
   "source": [
    "#### a) write a python program to create a function that will return a list of the unique digits in your class ID."
   ]
  },
  {
   "cell_type": "code",
   "execution_count": 221,
   "id": "0b6bc91b",
   "metadata": {},
   "outputs": [
    {
     "name": "stdout",
     "output_type": "stream",
     "text": [
      "Unique digits in the class ID: ['0', '4']\n"
     ]
    }
   ],
   "source": [
    "def unique_digit(class_id):\n",
    "    unique_digits = []  # empty list to store unique digits\n",
    "    \n",
    "    for char in class_id:\n",
    "        if char.isdigit() and char not in unique_digits:\n",
    "            unique_digits.append(char)  \n",
    "    \n",
    "    return unique_digits\n",
    "\n",
    "# class ID\n",
    "class_id = 'WM-ASDS04'\n",
    "\n",
    "# Display the list of unique digits\n",
    "print(\"Unique digits in the class ID:\", unique_digit(class_id))\n"
   ]
  }
 ],
 "metadata": {
  "kernelspec": {
   "display_name": "Python 3 (ipykernel)",
   "language": "python",
   "name": "python3"
  },
  "language_info": {
   "codemirror_mode": {
    "name": "ipython",
    "version": 3
   },
   "file_extension": ".py",
   "mimetype": "text/x-python",
   "name": "python",
   "nbconvert_exporter": "python",
   "pygments_lexer": "ipython3",
   "version": "3.11.4"
  }
 },
 "nbformat": 4,
 "nbformat_minor": 5
}
