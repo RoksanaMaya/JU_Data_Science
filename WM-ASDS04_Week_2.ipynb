{
 "cells": [
  {
   "cell_type": "markdown",
   "id": "a7d4b86c",
   "metadata": {},
   "source": [
    "## Week_02: Homework02 [Python Libraries: Pandas – DataFrame]\n",
    "**Course:** WMASDS04-Introduction to Data Science with Python\n",
    "<br>**Name:** Roksana Parvin\n",
    "<br>**Student_ID:** 20231177\n"
   ]
  },
  {
   "cell_type": "code",
   "execution_count": null,
   "id": "57ae1066",
   "metadata": {},
   "outputs": [],
   "source": []
  },
  {
   "cell_type": "markdown",
   "id": "a276c295",
   "metadata": {},
   "source": [
    "### 1. A laptop sales showroom wants to create a database for their warehouse. The database is used to store the information about all their products and updated frequently when new products arrive at the showroom. "
   ]
  },
  {
   "cell_type": "code",
   "execution_count": 2,
   "id": "4ac035df",
   "metadata": {},
   "outputs": [],
   "source": [
    "import pandas as pd"
   ]
  },
  {
   "cell_type": "markdown",
   "id": "b4123eb2",
   "metadata": {},
   "source": [
    "##### a) Create a dictionary in Python for their warehouse."
   ]
  },
  {
   "cell_type": "code",
   "execution_count": 3,
   "id": "07849cfd",
   "metadata": {},
   "outputs": [
    {
     "data": {
      "text/plain": [
       "{'Processor': ['Intel Core i7',\n",
       "  'AMD Ryzen 3D',\n",
       "  'Intel Core i7',\n",
       "  'Intel Core i5',\n",
       "  'AMD Ryzen 3D'],\n",
       " 'RAM': ['8GB', '8GB', '16GB', '8GB', '4GB'],\n",
       " 'Hard Disk': ['512GB', '512GB', '1TB', '512GB', '512GB'],\n",
       " 'Screen Size': ['13.3 inches',\n",
       "  '14 inches',\n",
       "  '15.6 inches',\n",
       "  '17.3 inches',\n",
       "  '13.3 inches'],\n",
       " 'Price(₹)': [85999, 64850, 114990, 75890, 59990]}"
      ]
     },
     "execution_count": 3,
     "metadata": {},
     "output_type": "execute_result"
    }
   ],
   "source": [
    "warehouse={'Processor':['Intel Core i7','AMD Ryzen 3D','Intel Core i7','Intel Core i5','AMD Ryzen 3D'],\n",
    "           'RAM':['8GB','8GB','16GB','8GB','4GB'],\n",
    "           'Hard Disk':['512GB','512GB','1TB','512GB','512GB'],\n",
    "           'Screen Size':['13.3 inches','14 inches','15.6 inches','17.3 inches','13.3 inches'],\n",
    "           'Price(₹)':[85999,64850,114990,75890,59990]    \n",
    "          }\n",
    "warehouse"
   ]
  },
  {
   "cell_type": "markdown",
   "id": "76a9fae7",
   "metadata": {},
   "source": [
    "##### b)Create a dataframe from the dictionary in part a)"
   ]
  },
  {
   "cell_type": "code",
   "execution_count": 4,
   "id": "28107ae4",
   "metadata": {},
   "outputs": [
    {
     "data": {
      "text/html": [
       "<div>\n",
       "<style scoped>\n",
       "    .dataframe tbody tr th:only-of-type {\n",
       "        vertical-align: middle;\n",
       "    }\n",
       "\n",
       "    .dataframe tbody tr th {\n",
       "        vertical-align: top;\n",
       "    }\n",
       "\n",
       "    .dataframe thead th {\n",
       "        text-align: right;\n",
       "    }\n",
       "</style>\n",
       "<table border=\"1\" class=\"dataframe\">\n",
       "  <thead>\n",
       "    <tr style=\"text-align: right;\">\n",
       "      <th></th>\n",
       "      <th>Processor</th>\n",
       "      <th>RAM</th>\n",
       "      <th>Hard Disk</th>\n",
       "      <th>Screen Size</th>\n",
       "      <th>Price(₹)</th>\n",
       "    </tr>\n",
       "  </thead>\n",
       "  <tbody>\n",
       "    <tr>\n",
       "      <th>1</th>\n",
       "      <td>Intel Core i7</td>\n",
       "      <td>8GB</td>\n",
       "      <td>512GB</td>\n",
       "      <td>13.3 inches</td>\n",
       "      <td>85999</td>\n",
       "    </tr>\n",
       "    <tr>\n",
       "      <th>2</th>\n",
       "      <td>AMD Ryzen 3D</td>\n",
       "      <td>8GB</td>\n",
       "      <td>512GB</td>\n",
       "      <td>14 inches</td>\n",
       "      <td>64850</td>\n",
       "    </tr>\n",
       "    <tr>\n",
       "      <th>3</th>\n",
       "      <td>Intel Core i7</td>\n",
       "      <td>16GB</td>\n",
       "      <td>1TB</td>\n",
       "      <td>15.6 inches</td>\n",
       "      <td>114990</td>\n",
       "    </tr>\n",
       "    <tr>\n",
       "      <th>4</th>\n",
       "      <td>Intel Core i5</td>\n",
       "      <td>8GB</td>\n",
       "      <td>512GB</td>\n",
       "      <td>17.3 inches</td>\n",
       "      <td>75890</td>\n",
       "    </tr>\n",
       "    <tr>\n",
       "      <th>5</th>\n",
       "      <td>AMD Ryzen 3D</td>\n",
       "      <td>4GB</td>\n",
       "      <td>512GB</td>\n",
       "      <td>13.3 inches</td>\n",
       "      <td>59990</td>\n",
       "    </tr>\n",
       "  </tbody>\n",
       "</table>\n",
       "</div>"
      ],
      "text/plain": [
       "       Processor   RAM Hard Disk  Screen Size  Price(₹)\n",
       "1  Intel Core i7   8GB     512GB  13.3 inches     85999\n",
       "2   AMD Ryzen 3D   8GB     512GB    14 inches     64850\n",
       "3  Intel Core i7  16GB       1TB  15.6 inches    114990\n",
       "4  Intel Core i5   8GB     512GB  17.3 inches     75890\n",
       "5   AMD Ryzen 3D   4GB     512GB  13.3 inches     59990"
      ]
     },
     "execution_count": 4,
     "metadata": {},
     "output_type": "execute_result"
    }
   ],
   "source": [
    "index_num=[1,2,3,4,5]\n",
    "df_w=pd.DataFrame(warehouse, index=index_num)\n",
    "df_w"
   ]
  },
  {
   "cell_type": "markdown",
   "id": "25d1ea3b",
   "metadata": {},
   "source": [
    "##### c)Extract the column Processor and Hard Disk"
   ]
  },
  {
   "cell_type": "code",
   "execution_count": 5,
   "id": "fa371efe",
   "metadata": {},
   "outputs": [
    {
     "name": "stdout",
     "output_type": "stream",
     "text": [
      "       Processor Hard Disk\n",
      "1  Intel Core i7     512GB\n",
      "2   AMD Ryzen 3D     512GB\n",
      "3  Intel Core i7       1TB\n",
      "4  Intel Core i5     512GB\n",
      "5   AMD Ryzen 3D     512GB\n"
     ]
    }
   ],
   "source": [
    "extract_columns=df_w[['Processor','Hard Disk']]\n",
    "print(extract_columns)"
   ]
  },
  {
   "cell_type": "markdown",
   "id": "36390d17",
   "metadata": {},
   "source": [
    "##### d)Retrieve row number 3, 4, 5 and all the columns from the database."
   ]
  },
  {
   "cell_type": "code",
   "execution_count": 6,
   "id": "4708edd5",
   "metadata": {},
   "outputs": [
    {
     "data": {
      "text/html": [
       "<div>\n",
       "<style scoped>\n",
       "    .dataframe tbody tr th:only-of-type {\n",
       "        vertical-align: middle;\n",
       "    }\n",
       "\n",
       "    .dataframe tbody tr th {\n",
       "        vertical-align: top;\n",
       "    }\n",
       "\n",
       "    .dataframe thead th {\n",
       "        text-align: right;\n",
       "    }\n",
       "</style>\n",
       "<table border=\"1\" class=\"dataframe\">\n",
       "  <thead>\n",
       "    <tr style=\"text-align: right;\">\n",
       "      <th></th>\n",
       "      <th>Processor</th>\n",
       "      <th>RAM</th>\n",
       "      <th>Hard Disk</th>\n",
       "      <th>Screen Size</th>\n",
       "      <th>Price(₹)</th>\n",
       "    </tr>\n",
       "  </thead>\n",
       "  <tbody>\n",
       "    <tr>\n",
       "      <th>3</th>\n",
       "      <td>Intel Core i7</td>\n",
       "      <td>16GB</td>\n",
       "      <td>1TB</td>\n",
       "      <td>15.6 inches</td>\n",
       "      <td>114990</td>\n",
       "    </tr>\n",
       "    <tr>\n",
       "      <th>4</th>\n",
       "      <td>Intel Core i5</td>\n",
       "      <td>8GB</td>\n",
       "      <td>512GB</td>\n",
       "      <td>17.3 inches</td>\n",
       "      <td>75890</td>\n",
       "    </tr>\n",
       "    <tr>\n",
       "      <th>5</th>\n",
       "      <td>AMD Ryzen 3D</td>\n",
       "      <td>4GB</td>\n",
       "      <td>512GB</td>\n",
       "      <td>13.3 inches</td>\n",
       "      <td>59990</td>\n",
       "    </tr>\n",
       "  </tbody>\n",
       "</table>\n",
       "</div>"
      ],
      "text/plain": [
       "       Processor   RAM Hard Disk  Screen Size  Price(₹)\n",
       "3  Intel Core i7  16GB       1TB  15.6 inches    114990\n",
       "4  Intel Core i5   8GB     512GB  17.3 inches     75890\n",
       "5   AMD Ryzen 3D   4GB     512GB  13.3 inches     59990"
      ]
     },
     "execution_count": 6,
     "metadata": {},
     "output_type": "execute_result"
    }
   ],
   "source": [
    "extract_row=df_w.loc[[3,4,5],:]\n",
    "extract_row"
   ]
  },
  {
   "cell_type": "markdown",
   "id": "3f2cfb64",
   "metadata": {},
   "source": [
    "##### e)Extract the row number 2 and 3 and column 4 and 5 from the dataframe."
   ]
  },
  {
   "cell_type": "code",
   "execution_count": 7,
   "id": "c1a5597e",
   "metadata": {},
   "outputs": [
    {
     "data": {
      "text/html": [
       "<div>\n",
       "<style scoped>\n",
       "    .dataframe tbody tr th:only-of-type {\n",
       "        vertical-align: middle;\n",
       "    }\n",
       "\n",
       "    .dataframe tbody tr th {\n",
       "        vertical-align: top;\n",
       "    }\n",
       "\n",
       "    .dataframe thead th {\n",
       "        text-align: right;\n",
       "    }\n",
       "</style>\n",
       "<table border=\"1\" class=\"dataframe\">\n",
       "  <thead>\n",
       "    <tr style=\"text-align: right;\">\n",
       "      <th></th>\n",
       "      <th>Screen Size</th>\n",
       "      <th>Price(₹)</th>\n",
       "    </tr>\n",
       "  </thead>\n",
       "  <tbody>\n",
       "    <tr>\n",
       "      <th>2</th>\n",
       "      <td>14 inches</td>\n",
       "      <td>64850</td>\n",
       "    </tr>\n",
       "    <tr>\n",
       "      <th>3</th>\n",
       "      <td>15.6 inches</td>\n",
       "      <td>114990</td>\n",
       "    </tr>\n",
       "  </tbody>\n",
       "</table>\n",
       "</div>"
      ],
      "text/plain": [
       "   Screen Size  Price(₹)\n",
       "2    14 inches     64850\n",
       "3  15.6 inches    114990"
      ]
     },
     "execution_count": 7,
     "metadata": {},
     "output_type": "execute_result"
    }
   ],
   "source": [
    "extract_row_col=df_w.iloc[1:3,3:]\n",
    "extract_row_col"
   ]
  },
  {
   "cell_type": "markdown",
   "id": "97298bbb",
   "metadata": {},
   "source": [
    "##### f)Add a new row with the following data"
   ]
  },
  {
   "cell_type": "code",
   "execution_count": 8,
   "id": "f971bf74",
   "metadata": {},
   "outputs": [
    {
     "data": {
      "text/html": [
       "<div>\n",
       "<style scoped>\n",
       "    .dataframe tbody tr th:only-of-type {\n",
       "        vertical-align: middle;\n",
       "    }\n",
       "\n",
       "    .dataframe tbody tr th {\n",
       "        vertical-align: top;\n",
       "    }\n",
       "\n",
       "    .dataframe thead th {\n",
       "        text-align: right;\n",
       "    }\n",
       "</style>\n",
       "<table border=\"1\" class=\"dataframe\">\n",
       "  <thead>\n",
       "    <tr style=\"text-align: right;\">\n",
       "      <th></th>\n",
       "      <th>Processor</th>\n",
       "      <th>RAM</th>\n",
       "      <th>Hard Disk</th>\n",
       "      <th>Screen Size</th>\n",
       "      <th>Price(₹)</th>\n",
       "    </tr>\n",
       "  </thead>\n",
       "  <tbody>\n",
       "    <tr>\n",
       "      <th>1</th>\n",
       "      <td>Intel Core i7</td>\n",
       "      <td>8GB</td>\n",
       "      <td>512GB</td>\n",
       "      <td>13.3 inches</td>\n",
       "      <td>85999</td>\n",
       "    </tr>\n",
       "    <tr>\n",
       "      <th>2</th>\n",
       "      <td>AMD Ryzen 3D</td>\n",
       "      <td>8GB</td>\n",
       "      <td>512GB</td>\n",
       "      <td>14 inches</td>\n",
       "      <td>64850</td>\n",
       "    </tr>\n",
       "    <tr>\n",
       "      <th>3</th>\n",
       "      <td>Intel Core i7</td>\n",
       "      <td>16GB</td>\n",
       "      <td>1TB</td>\n",
       "      <td>15.6 inches</td>\n",
       "      <td>114990</td>\n",
       "    </tr>\n",
       "    <tr>\n",
       "      <th>4</th>\n",
       "      <td>Intel Core i5</td>\n",
       "      <td>8GB</td>\n",
       "      <td>512GB</td>\n",
       "      <td>17.3 inches</td>\n",
       "      <td>75890</td>\n",
       "    </tr>\n",
       "    <tr>\n",
       "      <th>5</th>\n",
       "      <td>AMD Ryzen 3D</td>\n",
       "      <td>4GB</td>\n",
       "      <td>512GB</td>\n",
       "      <td>13.3 inches</td>\n",
       "      <td>59990</td>\n",
       "    </tr>\n",
       "    <tr>\n",
       "      <th>6</th>\n",
       "      <td>Intel Core i5</td>\n",
       "      <td>4GB</td>\n",
       "      <td>256GB</td>\n",
       "      <td>14 inches</td>\n",
       "      <td>50200</td>\n",
       "    </tr>\n",
       "  </tbody>\n",
       "</table>\n",
       "</div>"
      ],
      "text/plain": [
       "       Processor   RAM Hard Disk  Screen Size Price(₹)\n",
       "1  Intel Core i7   8GB     512GB  13.3 inches    85999\n",
       "2   AMD Ryzen 3D   8GB     512GB    14 inches    64850\n",
       "3  Intel Core i7  16GB       1TB  15.6 inches   114990\n",
       "4  Intel Core i5   8GB     512GB  17.3 inches    75890\n",
       "5   AMD Ryzen 3D   4GB     512GB  13.3 inches    59990\n",
       "6  Intel Core i5   4GB     256GB    14 inches    50200"
      ]
     },
     "execution_count": 8,
     "metadata": {},
     "output_type": "execute_result"
    }
   ],
   "source": [
    "new_row={'Processor':'Intel Core i5',\n",
    "        'RAM':'4GB',\n",
    "        'Hard Disk':'256GB',\n",
    "        'Screen Size':'14 inches',\n",
    "        'Price(₹)':'50200'}\n",
    "\n",
    "new_df=pd.DataFrame(new_row, index=[6])\n",
    "df_new_row=pd.concat([df_w,new_df],axis=0)\n",
    "df_new_row"
   ]
  },
  {
   "cell_type": "markdown",
   "id": "8ded6f6c",
   "metadata": {},
   "source": [
    "##### g) Add a new column named Graphics Card with the following data"
   ]
  },
  {
   "cell_type": "code",
   "execution_count": 9,
   "id": "6932d8eb",
   "metadata": {},
   "outputs": [
    {
     "data": {
      "text/html": [
       "<div>\n",
       "<style scoped>\n",
       "    .dataframe tbody tr th:only-of-type {\n",
       "        vertical-align: middle;\n",
       "    }\n",
       "\n",
       "    .dataframe tbody tr th {\n",
       "        vertical-align: top;\n",
       "    }\n",
       "\n",
       "    .dataframe thead th {\n",
       "        text-align: right;\n",
       "    }\n",
       "</style>\n",
       "<table border=\"1\" class=\"dataframe\">\n",
       "  <thead>\n",
       "    <tr style=\"text-align: right;\">\n",
       "      <th></th>\n",
       "      <th>Processor</th>\n",
       "      <th>RAM</th>\n",
       "      <th>Hard Disk</th>\n",
       "      <th>Screen Size</th>\n",
       "      <th>Price(₹)</th>\n",
       "      <th>Graphics Card</th>\n",
       "    </tr>\n",
       "  </thead>\n",
       "  <tbody>\n",
       "    <tr>\n",
       "      <th>1</th>\n",
       "      <td>Intel Core i7</td>\n",
       "      <td>8GB</td>\n",
       "      <td>512GB</td>\n",
       "      <td>13.3 inches</td>\n",
       "      <td>85999</td>\n",
       "      <td>Radeon vega</td>\n",
       "    </tr>\n",
       "    <tr>\n",
       "      <th>2</th>\n",
       "      <td>AMD Ryzen 3D</td>\n",
       "      <td>8GB</td>\n",
       "      <td>512GB</td>\n",
       "      <td>14 inches</td>\n",
       "      <td>64850</td>\n",
       "      <td>Intel graphics card</td>\n",
       "    </tr>\n",
       "    <tr>\n",
       "      <th>3</th>\n",
       "      <td>Intel Core i7</td>\n",
       "      <td>16GB</td>\n",
       "      <td>1TB</td>\n",
       "      <td>15.6 inches</td>\n",
       "      <td>114990</td>\n",
       "      <td>UHD graphics</td>\n",
       "    </tr>\n",
       "    <tr>\n",
       "      <th>4</th>\n",
       "      <td>Intel Core i5</td>\n",
       "      <td>8GB</td>\n",
       "      <td>512GB</td>\n",
       "      <td>17.3 inches</td>\n",
       "      <td>75890</td>\n",
       "      <td>Radeon vega</td>\n",
       "    </tr>\n",
       "    <tr>\n",
       "      <th>5</th>\n",
       "      <td>AMD Ryzen 3D</td>\n",
       "      <td>4GB</td>\n",
       "      <td>512GB</td>\n",
       "      <td>13.3 inches</td>\n",
       "      <td>59990</td>\n",
       "      <td>NVIDIA graphics</td>\n",
       "    </tr>\n",
       "  </tbody>\n",
       "</table>\n",
       "</div>"
      ],
      "text/plain": [
       "       Processor   RAM Hard Disk  Screen Size  Price(₹)        Graphics Card\n",
       "1  Intel Core i7   8GB     512GB  13.3 inches     85999          Radeon vega\n",
       "2   AMD Ryzen 3D   8GB     512GB    14 inches     64850  Intel graphics card\n",
       "3  Intel Core i7  16GB       1TB  15.6 inches    114990         UHD graphics\n",
       "4  Intel Core i5   8GB     512GB  17.3 inches     75890          Radeon vega\n",
       "5   AMD Ryzen 3D   4GB     512GB  13.3 inches     59990      NVIDIA graphics"
      ]
     },
     "execution_count": 9,
     "metadata": {},
     "output_type": "execute_result"
    }
   ],
   "source": [
    "#Since there are 5 elements in the column so I will use the original data frame\n",
    "df_w\n",
    "df_w['Graphics Card']=['Radeon vega','Intel graphics card','UHD graphics','Radeon vega','NVIDIA graphics']\n",
    "df_w\n"
   ]
  },
  {
   "cell_type": "markdown",
   "id": "9df53f20",
   "metadata": {},
   "source": [
    "### 2. A four-star hotel wants to create a database of their customers who book rooms on a daily basis."
   ]
  },
  {
   "cell_type": "markdown",
   "id": "492cdfe2",
   "metadata": {},
   "source": [
    "##### a) Create a dataframe in python using data."
   ]
  },
  {
   "cell_type": "code",
   "execution_count": 10,
   "id": "67498cbf",
   "metadata": {},
   "outputs": [
    {
     "data": {
      "text/html": [
       "<div>\n",
       "<style scoped>\n",
       "    .dataframe tbody tr th:only-of-type {\n",
       "        vertical-align: middle;\n",
       "    }\n",
       "\n",
       "    .dataframe tbody tr th {\n",
       "        vertical-align: top;\n",
       "    }\n",
       "\n",
       "    .dataframe thead th {\n",
       "        text-align: right;\n",
       "    }\n",
       "</style>\n",
       "<table border=\"1\" class=\"dataframe\">\n",
       "  <thead>\n",
       "    <tr style=\"text-align: right;\">\n",
       "      <th></th>\n",
       "      <th>Customer’s Name</th>\n",
       "      <th>Room Type</th>\n",
       "      <th>Length of Stay</th>\n",
       "      <th>Meal Preferences</th>\n",
       "      <th>Type of Visits</th>\n",
       "    </tr>\n",
       "  </thead>\n",
       "  <tbody>\n",
       "    <tr>\n",
       "      <th>0</th>\n",
       "      <td>John</td>\n",
       "      <td>Standard</td>\n",
       "      <td>2 days</td>\n",
       "      <td>Veg</td>\n",
       "      <td>Personal</td>\n",
       "    </tr>\n",
       "    <tr>\n",
       "      <th>1</th>\n",
       "      <td>Pricilla</td>\n",
       "      <td>Suite</td>\n",
       "      <td>3 days</td>\n",
       "      <td>Non Veg</td>\n",
       "      <td>Business</td>\n",
       "    </tr>\n",
       "    <tr>\n",
       "      <th>2</th>\n",
       "      <td>Maria</td>\n",
       "      <td>Premium</td>\n",
       "      <td>1 day</td>\n",
       "      <td>Non Veg</td>\n",
       "      <td>Personal</td>\n",
       "    </tr>\n",
       "    <tr>\n",
       "      <th>3</th>\n",
       "      <td>Philips</td>\n",
       "      <td>Standard</td>\n",
       "      <td>4 days</td>\n",
       "      <td>Veg</td>\n",
       "      <td>Business</td>\n",
       "    </tr>\n",
       "    <tr>\n",
       "      <th>4</th>\n",
       "      <td>Robin</td>\n",
       "      <td>Premium</td>\n",
       "      <td>2 days</td>\n",
       "      <td>Veg</td>\n",
       "      <td>Business</td>\n",
       "    </tr>\n",
       "  </tbody>\n",
       "</table>\n",
       "</div>"
      ],
      "text/plain": [
       "  Customer’s Name Room Type Length of Stay Meal Preferences Type of Visits\n",
       "0            John  Standard         2 days              Veg       Personal\n",
       "1        Pricilla     Suite         3 days          Non Veg       Business\n",
       "2           Maria   Premium          1 day          Non Veg       Personal\n",
       "3         Philips  Standard         4 days              Veg       Business\n",
       "4           Robin   Premium         2 days              Veg       Business"
      ]
     },
     "execution_count": 10,
     "metadata": {},
     "output_type": "execute_result"
    }
   ],
   "source": [
    "#creating df from excel file\n",
    "data=pd.read_excel(r'data.xlsx')\n",
    "df_db=pd.DataFrame(data)\n",
    "df_db"
   ]
  },
  {
   "cell_type": "markdown",
   "id": "3854cb9d",
   "metadata": {},
   "source": [
    "##### b) Assign row index as C1, C2, C3, C4, and C5."
   ]
  },
  {
   "cell_type": "code",
   "execution_count": 11,
   "id": "ea56bbf0",
   "metadata": {},
   "outputs": [
    {
     "data": {
      "text/html": [
       "<div>\n",
       "<style scoped>\n",
       "    .dataframe tbody tr th:only-of-type {\n",
       "        vertical-align: middle;\n",
       "    }\n",
       "\n",
       "    .dataframe tbody tr th {\n",
       "        vertical-align: top;\n",
       "    }\n",
       "\n",
       "    .dataframe thead th {\n",
       "        text-align: right;\n",
       "    }\n",
       "</style>\n",
       "<table border=\"1\" class=\"dataframe\">\n",
       "  <thead>\n",
       "    <tr style=\"text-align: right;\">\n",
       "      <th></th>\n",
       "      <th>Customer’s Name</th>\n",
       "      <th>Room Type</th>\n",
       "      <th>Length of Stay</th>\n",
       "      <th>Meal Preferences</th>\n",
       "      <th>Type of Visits</th>\n",
       "    </tr>\n",
       "  </thead>\n",
       "  <tbody>\n",
       "    <tr>\n",
       "      <th>C1</th>\n",
       "      <td>John</td>\n",
       "      <td>Standard</td>\n",
       "      <td>2 days</td>\n",
       "      <td>Veg</td>\n",
       "      <td>Personal</td>\n",
       "    </tr>\n",
       "    <tr>\n",
       "      <th>C2</th>\n",
       "      <td>Pricilla</td>\n",
       "      <td>Suite</td>\n",
       "      <td>3 days</td>\n",
       "      <td>Non Veg</td>\n",
       "      <td>Business</td>\n",
       "    </tr>\n",
       "    <tr>\n",
       "      <th>C3</th>\n",
       "      <td>Maria</td>\n",
       "      <td>Premium</td>\n",
       "      <td>1 day</td>\n",
       "      <td>Non Veg</td>\n",
       "      <td>Personal</td>\n",
       "    </tr>\n",
       "    <tr>\n",
       "      <th>C4</th>\n",
       "      <td>Philips</td>\n",
       "      <td>Standard</td>\n",
       "      <td>4 days</td>\n",
       "      <td>Veg</td>\n",
       "      <td>Business</td>\n",
       "    </tr>\n",
       "    <tr>\n",
       "      <th>C5</th>\n",
       "      <td>Robin</td>\n",
       "      <td>Premium</td>\n",
       "      <td>2 days</td>\n",
       "      <td>Veg</td>\n",
       "      <td>Business</td>\n",
       "    </tr>\n",
       "  </tbody>\n",
       "</table>\n",
       "</div>"
      ],
      "text/plain": [
       "   Customer’s Name Room Type Length of Stay Meal Preferences Type of Visits\n",
       "C1            John  Standard         2 days              Veg       Personal\n",
       "C2        Pricilla     Suite         3 days          Non Veg       Business\n",
       "C3           Maria   Premium          1 day          Non Veg       Personal\n",
       "C4         Philips  Standard         4 days              Veg       Business\n",
       "C5           Robin   Premium         2 days              Veg       Business"
      ]
     },
     "execution_count": 11,
     "metadata": {},
     "output_type": "execute_result"
    }
   ],
   "source": [
    "assign_index = ['C1', 'C2', 'C3', 'C4','C5']\n",
    "\n",
    "# Assign the assign_index as the row index\n",
    "df_db.index = assign_index\n",
    "df_db"
   ]
  },
  {
   "cell_type": "markdown",
   "id": "23f0e00d",
   "metadata": {},
   "source": [
    "##### c) Select two columns Customer Name and Room Type to send it to reception."
   ]
  },
  {
   "cell_type": "code",
   "execution_count": 12,
   "id": "4784cb92",
   "metadata": {},
   "outputs": [
    {
     "data": {
      "text/html": [
       "<div>\n",
       "<style scoped>\n",
       "    .dataframe tbody tr th:only-of-type {\n",
       "        vertical-align: middle;\n",
       "    }\n",
       "\n",
       "    .dataframe tbody tr th {\n",
       "        vertical-align: top;\n",
       "    }\n",
       "\n",
       "    .dataframe thead th {\n",
       "        text-align: right;\n",
       "    }\n",
       "</style>\n",
       "<table border=\"1\" class=\"dataframe\">\n",
       "  <thead>\n",
       "    <tr style=\"text-align: right;\">\n",
       "      <th></th>\n",
       "      <th>Customer’s Name</th>\n",
       "      <th>Room Type</th>\n",
       "    </tr>\n",
       "  </thead>\n",
       "  <tbody>\n",
       "    <tr>\n",
       "      <th>C1</th>\n",
       "      <td>John</td>\n",
       "      <td>Standard</td>\n",
       "    </tr>\n",
       "    <tr>\n",
       "      <th>C2</th>\n",
       "      <td>Pricilla</td>\n",
       "      <td>Suite</td>\n",
       "    </tr>\n",
       "    <tr>\n",
       "      <th>C3</th>\n",
       "      <td>Maria</td>\n",
       "      <td>Premium</td>\n",
       "    </tr>\n",
       "    <tr>\n",
       "      <th>C4</th>\n",
       "      <td>Philips</td>\n",
       "      <td>Standard</td>\n",
       "    </tr>\n",
       "    <tr>\n",
       "      <th>C5</th>\n",
       "      <td>Robin</td>\n",
       "      <td>Premium</td>\n",
       "    </tr>\n",
       "  </tbody>\n",
       "</table>\n",
       "</div>"
      ],
      "text/plain": [
       "   Customer’s Name Room Type\n",
       "C1            John  Standard\n",
       "C2        Pricilla     Suite\n",
       "C3           Maria   Premium\n",
       "C4         Philips  Standard\n",
       "C5           Robin   Premium"
      ]
     },
     "execution_count": 12,
     "metadata": {},
     "output_type": "execute_result"
    }
   ],
   "source": [
    "df_db_column=df_db[['Customer’s Name','Room Type']]\n",
    "df_db_column"
   ]
  },
  {
   "cell_type": "markdown",
   "id": "bbbe9234",
   "metadata": {},
   "source": [
    "##### d) Select two rows C3 and C4 and two columns Length of Stay and Type of Visit using .loc."
   ]
  },
  {
   "cell_type": "code",
   "execution_count": 13,
   "id": "8d15b040",
   "metadata": {},
   "outputs": [
    {
     "data": {
      "text/html": [
       "<div>\n",
       "<style scoped>\n",
       "    .dataframe tbody tr th:only-of-type {\n",
       "        vertical-align: middle;\n",
       "    }\n",
       "\n",
       "    .dataframe tbody tr th {\n",
       "        vertical-align: top;\n",
       "    }\n",
       "\n",
       "    .dataframe thead th {\n",
       "        text-align: right;\n",
       "    }\n",
       "</style>\n",
       "<table border=\"1\" class=\"dataframe\">\n",
       "  <thead>\n",
       "    <tr style=\"text-align: right;\">\n",
       "      <th></th>\n",
       "      <th>Length of Stay</th>\n",
       "      <th>Type of Visits</th>\n",
       "    </tr>\n",
       "  </thead>\n",
       "  <tbody>\n",
       "    <tr>\n",
       "      <th>C3</th>\n",
       "      <td>1 day</td>\n",
       "      <td>Personal</td>\n",
       "    </tr>\n",
       "    <tr>\n",
       "      <th>C4</th>\n",
       "      <td>4 days</td>\n",
       "      <td>Business</td>\n",
       "    </tr>\n",
       "  </tbody>\n",
       "</table>\n",
       "</div>"
      ],
      "text/plain": [
       "   Length of Stay Type of Visits\n",
       "C3          1 day       Personal\n",
       "C4         4 days       Business"
      ]
     },
     "execution_count": 13,
     "metadata": {},
     "output_type": "execute_result"
    }
   ],
   "source": [
    "df_db_r_c=df_db.loc[['C3','C4'],['Length of Stay','Type of Visits']]\n",
    "df_db_r_c"
   ]
  },
  {
   "cell_type": "markdown",
   "id": "6ca6b9fe",
   "metadata": {},
   "source": [
    "##### e) Using .iloc select the first three rows and the first three columns."
   ]
  },
  {
   "cell_type": "code",
   "execution_count": 14,
   "id": "8f0494c8",
   "metadata": {},
   "outputs": [
    {
     "data": {
      "text/html": [
       "<div>\n",
       "<style scoped>\n",
       "    .dataframe tbody tr th:only-of-type {\n",
       "        vertical-align: middle;\n",
       "    }\n",
       "\n",
       "    .dataframe tbody tr th {\n",
       "        vertical-align: top;\n",
       "    }\n",
       "\n",
       "    .dataframe thead th {\n",
       "        text-align: right;\n",
       "    }\n",
       "</style>\n",
       "<table border=\"1\" class=\"dataframe\">\n",
       "  <thead>\n",
       "    <tr style=\"text-align: right;\">\n",
       "      <th></th>\n",
       "      <th>Customer’s Name</th>\n",
       "      <th>Room Type</th>\n",
       "      <th>Length of Stay</th>\n",
       "    </tr>\n",
       "  </thead>\n",
       "  <tbody>\n",
       "    <tr>\n",
       "      <th>C1</th>\n",
       "      <td>John</td>\n",
       "      <td>Standard</td>\n",
       "      <td>2 days</td>\n",
       "    </tr>\n",
       "    <tr>\n",
       "      <th>C2</th>\n",
       "      <td>Pricilla</td>\n",
       "      <td>Suite</td>\n",
       "      <td>3 days</td>\n",
       "    </tr>\n",
       "    <tr>\n",
       "      <th>C3</th>\n",
       "      <td>Maria</td>\n",
       "      <td>Premium</td>\n",
       "      <td>1 day</td>\n",
       "    </tr>\n",
       "  </tbody>\n",
       "</table>\n",
       "</div>"
      ],
      "text/plain": [
       "   Customer’s Name Room Type Length of Stay\n",
       "C1            John  Standard         2 days\n",
       "C2        Pricilla     Suite         3 days\n",
       "C3           Maria   Premium          1 day"
      ]
     },
     "execution_count": 14,
     "metadata": {},
     "output_type": "execute_result"
    }
   ],
   "source": [
    "df_db_r_c=df_db.iloc[:3,:3]\n",
    "df_db_r_c"
   ]
  },
  {
   "cell_type": "markdown",
   "id": "0b4e7a88",
   "metadata": {},
   "source": [
    "##### f) Add a new column Transport Service with the data Yes, No, No, Yes, Yes, Yes using the insert command."
   ]
  },
  {
   "cell_type": "code",
   "execution_count": 15,
   "id": "57504b70",
   "metadata": {},
   "outputs": [
    {
     "data": {
      "text/html": [
       "<div>\n",
       "<style scoped>\n",
       "    .dataframe tbody tr th:only-of-type {\n",
       "        vertical-align: middle;\n",
       "    }\n",
       "\n",
       "    .dataframe tbody tr th {\n",
       "        vertical-align: top;\n",
       "    }\n",
       "\n",
       "    .dataframe thead th {\n",
       "        text-align: right;\n",
       "    }\n",
       "</style>\n",
       "<table border=\"1\" class=\"dataframe\">\n",
       "  <thead>\n",
       "    <tr style=\"text-align: right;\">\n",
       "      <th></th>\n",
       "      <th>Customer’s Name</th>\n",
       "      <th>Room Type</th>\n",
       "      <th>Length of Stay</th>\n",
       "      <th>Meal Preferences</th>\n",
       "      <th>Type of Visits</th>\n",
       "      <th>Transport Service</th>\n",
       "    </tr>\n",
       "  </thead>\n",
       "  <tbody>\n",
       "    <tr>\n",
       "      <th>C1</th>\n",
       "      <td>John</td>\n",
       "      <td>Standard</td>\n",
       "      <td>2 days</td>\n",
       "      <td>Veg</td>\n",
       "      <td>Personal</td>\n",
       "      <td>Yes</td>\n",
       "    </tr>\n",
       "    <tr>\n",
       "      <th>C2</th>\n",
       "      <td>Pricilla</td>\n",
       "      <td>Suite</td>\n",
       "      <td>3 days</td>\n",
       "      <td>Non Veg</td>\n",
       "      <td>Business</td>\n",
       "      <td>No</td>\n",
       "    </tr>\n",
       "    <tr>\n",
       "      <th>C3</th>\n",
       "      <td>Maria</td>\n",
       "      <td>Premium</td>\n",
       "      <td>1 day</td>\n",
       "      <td>Non Veg</td>\n",
       "      <td>Personal</td>\n",
       "      <td>No</td>\n",
       "    </tr>\n",
       "    <tr>\n",
       "      <th>C4</th>\n",
       "      <td>Philips</td>\n",
       "      <td>Standard</td>\n",
       "      <td>4 days</td>\n",
       "      <td>Veg</td>\n",
       "      <td>Business</td>\n",
       "      <td>Yes</td>\n",
       "    </tr>\n",
       "    <tr>\n",
       "      <th>C5</th>\n",
       "      <td>Robin</td>\n",
       "      <td>Premium</td>\n",
       "      <td>2 days</td>\n",
       "      <td>Veg</td>\n",
       "      <td>Business</td>\n",
       "      <td>Yes</td>\n",
       "    </tr>\n",
       "  </tbody>\n",
       "</table>\n",
       "</div>"
      ],
      "text/plain": [
       "   Customer’s Name Room Type Length of Stay Meal Preferences Type of Visits  \\\n",
       "C1            John  Standard         2 days              Veg       Personal   \n",
       "C2        Pricilla     Suite         3 days          Non Veg       Business   \n",
       "C3           Maria   Premium          1 day          Non Veg       Personal   \n",
       "C4         Philips  Standard         4 days              Veg       Business   \n",
       "C5           Robin   Premium         2 days              Veg       Business   \n",
       "\n",
       "   Transport Service  \n",
       "C1               Yes  \n",
       "C2                No  \n",
       "C3                No  \n",
       "C4               Yes  \n",
       "C5               Yes  "
      ]
     },
     "execution_count": 15,
     "metadata": {},
     "output_type": "execute_result"
    }
   ],
   "source": [
    "col_name='Transport Service'\n",
    "col_value=['Yes','No','No','Yes','Yes']\n",
    "df_db.insert(5,col_name,col_value, allow_duplicates = True)\n",
    "df_db"
   ]
  },
  {
   "cell_type": "markdown",
   "id": "48ced98e",
   "metadata": {},
   "source": [
    "##### g) Drop a row C4 from the dataset."
   ]
  },
  {
   "cell_type": "code",
   "execution_count": 16,
   "id": "815ce3bb",
   "metadata": {},
   "outputs": [
    {
     "data": {
      "text/html": [
       "<div>\n",
       "<style scoped>\n",
       "    .dataframe tbody tr th:only-of-type {\n",
       "        vertical-align: middle;\n",
       "    }\n",
       "\n",
       "    .dataframe tbody tr th {\n",
       "        vertical-align: top;\n",
       "    }\n",
       "\n",
       "    .dataframe thead th {\n",
       "        text-align: right;\n",
       "    }\n",
       "</style>\n",
       "<table border=\"1\" class=\"dataframe\">\n",
       "  <thead>\n",
       "    <tr style=\"text-align: right;\">\n",
       "      <th></th>\n",
       "      <th>Customer’s Name</th>\n",
       "      <th>Room Type</th>\n",
       "      <th>Length of Stay</th>\n",
       "      <th>Meal Preferences</th>\n",
       "      <th>Type of Visits</th>\n",
       "      <th>Transport Service</th>\n",
       "    </tr>\n",
       "  </thead>\n",
       "  <tbody>\n",
       "    <tr>\n",
       "      <th>C1</th>\n",
       "      <td>John</td>\n",
       "      <td>Standard</td>\n",
       "      <td>2 days</td>\n",
       "      <td>Veg</td>\n",
       "      <td>Personal</td>\n",
       "      <td>Yes</td>\n",
       "    </tr>\n",
       "    <tr>\n",
       "      <th>C2</th>\n",
       "      <td>Pricilla</td>\n",
       "      <td>Suite</td>\n",
       "      <td>3 days</td>\n",
       "      <td>Non Veg</td>\n",
       "      <td>Business</td>\n",
       "      <td>No</td>\n",
       "    </tr>\n",
       "    <tr>\n",
       "      <th>C3</th>\n",
       "      <td>Maria</td>\n",
       "      <td>Premium</td>\n",
       "      <td>1 day</td>\n",
       "      <td>Non Veg</td>\n",
       "      <td>Personal</td>\n",
       "      <td>No</td>\n",
       "    </tr>\n",
       "    <tr>\n",
       "      <th>C5</th>\n",
       "      <td>Robin</td>\n",
       "      <td>Premium</td>\n",
       "      <td>2 days</td>\n",
       "      <td>Veg</td>\n",
       "      <td>Business</td>\n",
       "      <td>Yes</td>\n",
       "    </tr>\n",
       "  </tbody>\n",
       "</table>\n",
       "</div>"
      ],
      "text/plain": [
       "   Customer’s Name Room Type Length of Stay Meal Preferences Type of Visits  \\\n",
       "C1            John  Standard         2 days              Veg       Personal   \n",
       "C2        Pricilla     Suite         3 days          Non Veg       Business   \n",
       "C3           Maria   Premium          1 day          Non Veg       Personal   \n",
       "C5           Robin   Premium         2 days              Veg       Business   \n",
       "\n",
       "   Transport Service  \n",
       "C1               Yes  \n",
       "C2                No  \n",
       "C3                No  \n",
       "C5               Yes  "
      ]
     },
     "execution_count": 16,
     "metadata": {},
     "output_type": "execute_result"
    }
   ],
   "source": [
    "df_db.drop(['C4'], axis = 0, inplace = True)\n",
    "df_db"
   ]
  },
  {
   "cell_type": "markdown",
   "id": "872ec98e",
   "metadata": {},
   "source": [
    "##### h) Sort the dataframe by the Length of Stay."
   ]
  },
  {
   "cell_type": "code",
   "execution_count": 17,
   "id": "d16aa330",
   "metadata": {},
   "outputs": [
    {
     "data": {
      "text/html": [
       "<div>\n",
       "<style scoped>\n",
       "    .dataframe tbody tr th:only-of-type {\n",
       "        vertical-align: middle;\n",
       "    }\n",
       "\n",
       "    .dataframe tbody tr th {\n",
       "        vertical-align: top;\n",
       "    }\n",
       "\n",
       "    .dataframe thead th {\n",
       "        text-align: right;\n",
       "    }\n",
       "</style>\n",
       "<table border=\"1\" class=\"dataframe\">\n",
       "  <thead>\n",
       "    <tr style=\"text-align: right;\">\n",
       "      <th></th>\n",
       "      <th>Customer’s Name</th>\n",
       "      <th>Room Type</th>\n",
       "      <th>Length of Stay</th>\n",
       "      <th>Meal Preferences</th>\n",
       "      <th>Type of Visits</th>\n",
       "      <th>Transport Service</th>\n",
       "    </tr>\n",
       "  </thead>\n",
       "  <tbody>\n",
       "    <tr>\n",
       "      <th>C3</th>\n",
       "      <td>Maria</td>\n",
       "      <td>Premium</td>\n",
       "      <td>1 day</td>\n",
       "      <td>Non Veg</td>\n",
       "      <td>Personal</td>\n",
       "      <td>No</td>\n",
       "    </tr>\n",
       "    <tr>\n",
       "      <th>C1</th>\n",
       "      <td>John</td>\n",
       "      <td>Standard</td>\n",
       "      <td>2 days</td>\n",
       "      <td>Veg</td>\n",
       "      <td>Personal</td>\n",
       "      <td>Yes</td>\n",
       "    </tr>\n",
       "    <tr>\n",
       "      <th>C5</th>\n",
       "      <td>Robin</td>\n",
       "      <td>Premium</td>\n",
       "      <td>2 days</td>\n",
       "      <td>Veg</td>\n",
       "      <td>Business</td>\n",
       "      <td>Yes</td>\n",
       "    </tr>\n",
       "    <tr>\n",
       "      <th>C2</th>\n",
       "      <td>Pricilla</td>\n",
       "      <td>Suite</td>\n",
       "      <td>3 days</td>\n",
       "      <td>Non Veg</td>\n",
       "      <td>Business</td>\n",
       "      <td>No</td>\n",
       "    </tr>\n",
       "  </tbody>\n",
       "</table>\n",
       "</div>"
      ],
      "text/plain": [
       "   Customer’s Name Room Type Length of Stay Meal Preferences Type of Visits  \\\n",
       "C3           Maria   Premium          1 day          Non Veg       Personal   \n",
       "C1            John  Standard         2 days              Veg       Personal   \n",
       "C5           Robin   Premium         2 days              Veg       Business   \n",
       "C2        Pricilla     Suite         3 days          Non Veg       Business   \n",
       "\n",
       "   Transport Service  \n",
       "C3                No  \n",
       "C1               Yes  \n",
       "C5               Yes  \n",
       "C2                No  "
      ]
     },
     "execution_count": 17,
     "metadata": {},
     "output_type": "execute_result"
    }
   ],
   "source": [
    "# Sorting\n",
    "#df_db.sort_values('Customer’s Name', ascending=False)\n",
    "df_sorted=df_db.sort_values('Length of Stay', ascending=True)\n",
    "df_sorted"
   ]
  },
  {
   "cell_type": "markdown",
   "id": "f2305a62",
   "metadata": {},
   "source": [
    "##### i) Group the data by the Type of Visit and Room."
   ]
  },
  {
   "cell_type": "code",
   "execution_count": 28,
   "id": "7abadd8c",
   "metadata": {},
   "outputs": [
    {
     "data": {
      "text/html": [
       "<div>\n",
       "<style scoped>\n",
       "    .dataframe tbody tr th:only-of-type {\n",
       "        vertical-align: middle;\n",
       "    }\n",
       "\n",
       "    .dataframe tbody tr th {\n",
       "        vertical-align: top;\n",
       "    }\n",
       "\n",
       "    .dataframe thead th {\n",
       "        text-align: right;\n",
       "    }\n",
       "</style>\n",
       "<table border=\"1\" class=\"dataframe\">\n",
       "  <thead>\n",
       "    <tr style=\"text-align: right;\">\n",
       "      <th></th>\n",
       "      <th>Type of Visits</th>\n",
       "      <th>Room Type</th>\n",
       "      <th>No of Visitors</th>\n",
       "    </tr>\n",
       "  </thead>\n",
       "  <tbody>\n",
       "    <tr>\n",
       "      <th>0</th>\n",
       "      <td>Business</td>\n",
       "      <td>Premium</td>\n",
       "      <td>1</td>\n",
       "    </tr>\n",
       "    <tr>\n",
       "      <th>1</th>\n",
       "      <td>Business</td>\n",
       "      <td>Suite</td>\n",
       "      <td>1</td>\n",
       "    </tr>\n",
       "    <tr>\n",
       "      <th>2</th>\n",
       "      <td>Personal</td>\n",
       "      <td>Premium</td>\n",
       "      <td>1</td>\n",
       "    </tr>\n",
       "    <tr>\n",
       "      <th>3</th>\n",
       "      <td>Personal</td>\n",
       "      <td>Standard</td>\n",
       "      <td>1</td>\n",
       "    </tr>\n",
       "  </tbody>\n",
       "</table>\n",
       "</div>"
      ],
      "text/plain": [
       "  Type of Visits Room Type  No of Visitors\n",
       "0       Business   Premium               1\n",
       "1       Business     Suite               1\n",
       "2       Personal   Premium               1\n",
       "3       Personal  Standard               1"
      ]
     },
     "execution_count": 28,
     "metadata": {},
     "output_type": "execute_result"
    }
   ],
   "source": [
    "group = df_db.groupby(['Type of Visits','Room Type'])\n",
    "group.size().reset_index(name='No of Visitors')"
   ]
  }
 ],
 "metadata": {
  "kernelspec": {
   "display_name": "Python 3 (ipykernel)",
   "language": "python",
   "name": "python3"
  },
  "language_info": {
   "codemirror_mode": {
    "name": "ipython",
    "version": 3
   },
   "file_extension": ".py",
   "mimetype": "text/x-python",
   "name": "python",
   "nbconvert_exporter": "python",
   "pygments_lexer": "ipython3",
   "version": "3.10.6"
  }
 },
 "nbformat": 4,
 "nbformat_minor": 5
}
